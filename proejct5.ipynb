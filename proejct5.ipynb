{
  "nbformat": 4,
  "nbformat_minor": 0,
  "metadata": {
    "colab": {
      "name": "proejct5.ipynb",
      "provenance": [],
      "authorship_tag": "ABX9TyO5A+B5Es1GjMCRsfvjJGjA",
      "include_colab_link": true
    },
    "kernelspec": {
      "name": "python3",
      "display_name": "Python 3"
    },
    "language_info": {
      "name": "python"
    }
  },
  "cells": [
    {
      "cell_type": "markdown",
      "metadata": {
        "id": "view-in-github",
        "colab_type": "text"
      },
      "source": [
        "<a href=\"https://colab.research.google.com/github/widjohn/for_my_project/blob/master/proejct5.ipynb\" target=\"_parent\"><img src=\"https://colab.research.google.com/assets/colab-badge.svg\" alt=\"Open In Colab\"/></a>"
      ]
    },
    {
      "cell_type": "markdown",
      "metadata": {
        "id": "gUpku0KWE1pW"
      },
      "source": [
        "Supervised Machine Learning Problem.\n",
        "\n",
        "\n",
        "Churn modelling dataset.\n",
        "\n",
        "This data set contains details of a bank's customers and the target variable is a binary variable reflecting the fact whether the customer left the bank (closed his account) or he continues to be a customer.This is data science project based on supervised machine learning,in this project I will select several machine learning algorithms.\n",
        "\n",
        "The project is broken into phases, representing each phase in the data science project lifecycle. The phases include:\n",
        "\n",
        "Business Understanding/\n",
        "Data Collection/\n",
        "Data Preparation/\n",
        "Exploratory Analysis/\n",
        "Modeling/\n",
        "\n",
        "\n",
        "\n",
        "\n",
        "\n"
      ]
    },
    {
      "cell_type": "markdown",
      "metadata": {
        "id": "SP2Kr5oEraZR"
      },
      "source": [
        "Import all relevant libraries for building our supervised machine learning algorithm"
      ]
    },
    {
      "cell_type": "code",
      "metadata": {
        "id": "khKzebqvRaZR"
      },
      "source": [
        "#import libraries\n",
        "import pandas as pd\n",
        "import numpy as np \n",
        "import seaborn as sns\n",
        "from matplotlib import pyplot as plt"
      ],
      "execution_count": null,
      "outputs": []
    },
    {
      "cell_type": "code",
      "metadata": {
        "id": "LmQHfZNpRb19"
      },
      "source": [
        "#importing machine learning algorithms\n",
        "from xgboost import XGBClassifier, plot_importance\n",
        "from lightgbm import LGBMClassifier\n",
        "from sklearn.linear_model import LogisticRegression\n",
        "from sklearn.ensemble import RandomForestClassifier\n",
        "from sklearn.tree import DecisionTreeClassifier\n",
        "from sklearn.naive_bayes import GaussianNB\n",
        "#from sklearn.linear_model import KNeighborsClassifier"
      ],
      "execution_count": null,
      "outputs": []
    },
    {
      "cell_type": "markdown",
      "metadata": {
        "id": "GdWwvXtRVlME"
      },
      "source": [
        "Importing classification metrics & algorithms for data preprocessing\n",
        "\n",
        "\n",
        "\n"
      ]
    },
    {
      "cell_type": "code",
      "metadata": {
        "id": "Qj6fVRfbRcbR"
      },
      "source": [
        "from sklearn.metrics import accuracy_score,recall_score,precision_score,f1_score\n",
        "from sklearn.model_selection import  cross_val_score,GridSearchCV\n",
        "from sklearn.preprocessing import OneHotEncoder, StandardScaler\n",
        "from sklearn.model_selection import StratifiedKFold\n"
      ],
      "execution_count": null,
      "outputs": []
    },
    {
      "cell_type": "markdown",
      "metadata": {
        "id": "vIImZwX4p73U"
      },
      "source": [
        "Data collection"
      ]
    },
    {
      "cell_type": "code",
      "metadata": {
        "id": "me74JWoORdTz"
      },
      "source": [
        "#loading dataset\n",
        "data=pd.read_csv('/content/Churn_Modelling.csv')"
      ],
      "execution_count": null,
      "outputs": []
    },
    {
      "cell_type": "code",
      "metadata": {
        "colab": {
          "base_uri": "https://localhost:8080/",
          "height": 224
        },
        "id": "SK0ddperBPI_",
        "outputId": "032bcf3f-e6ef-4227-f329-054f0ac73196"
      },
      "source": [
        "#Check out the top five rows in the dataset to see how it looks like \n",
        "data.head(5)"
      ],
      "execution_count": null,
      "outputs": [
        {
          "output_type": "execute_result",
          "data": {
            "text/html": [
              "<div>\n",
              "<style scoped>\n",
              "    .dataframe tbody tr th:only-of-type {\n",
              "        vertical-align: middle;\n",
              "    }\n",
              "\n",
              "    .dataframe tbody tr th {\n",
              "        vertical-align: top;\n",
              "    }\n",
              "\n",
              "    .dataframe thead th {\n",
              "        text-align: right;\n",
              "    }\n",
              "</style>\n",
              "<table border=\"1\" class=\"dataframe\">\n",
              "  <thead>\n",
              "    <tr style=\"text-align: right;\">\n",
              "      <th></th>\n",
              "      <th>RowNumber</th>\n",
              "      <th>CustomerId</th>\n",
              "      <th>Surname</th>\n",
              "      <th>CreditScore</th>\n",
              "      <th>Geography</th>\n",
              "      <th>Gender</th>\n",
              "      <th>Age</th>\n",
              "      <th>Tenure</th>\n",
              "      <th>Balance</th>\n",
              "      <th>NumOfProducts</th>\n",
              "      <th>HasCrCard</th>\n",
              "      <th>IsActiveMember</th>\n",
              "      <th>EstimatedSalary</th>\n",
              "      <th>Exited</th>\n",
              "    </tr>\n",
              "  </thead>\n",
              "  <tbody>\n",
              "    <tr>\n",
              "      <th>0</th>\n",
              "      <td>1</td>\n",
              "      <td>15634602</td>\n",
              "      <td>Hargrave</td>\n",
              "      <td>619</td>\n",
              "      <td>France</td>\n",
              "      <td>Female</td>\n",
              "      <td>42</td>\n",
              "      <td>2</td>\n",
              "      <td>0.00</td>\n",
              "      <td>1</td>\n",
              "      <td>1</td>\n",
              "      <td>1</td>\n",
              "      <td>101348.88</td>\n",
              "      <td>1</td>\n",
              "    </tr>\n",
              "    <tr>\n",
              "      <th>1</th>\n",
              "      <td>2</td>\n",
              "      <td>15647311</td>\n",
              "      <td>Hill</td>\n",
              "      <td>608</td>\n",
              "      <td>Spain</td>\n",
              "      <td>Female</td>\n",
              "      <td>41</td>\n",
              "      <td>1</td>\n",
              "      <td>83807.86</td>\n",
              "      <td>1</td>\n",
              "      <td>0</td>\n",
              "      <td>1</td>\n",
              "      <td>112542.58</td>\n",
              "      <td>0</td>\n",
              "    </tr>\n",
              "    <tr>\n",
              "      <th>2</th>\n",
              "      <td>3</td>\n",
              "      <td>15619304</td>\n",
              "      <td>Onio</td>\n",
              "      <td>502</td>\n",
              "      <td>France</td>\n",
              "      <td>Female</td>\n",
              "      <td>42</td>\n",
              "      <td>8</td>\n",
              "      <td>159660.80</td>\n",
              "      <td>3</td>\n",
              "      <td>1</td>\n",
              "      <td>0</td>\n",
              "      <td>113931.57</td>\n",
              "      <td>1</td>\n",
              "    </tr>\n",
              "    <tr>\n",
              "      <th>3</th>\n",
              "      <td>4</td>\n",
              "      <td>15701354</td>\n",
              "      <td>Boni</td>\n",
              "      <td>699</td>\n",
              "      <td>France</td>\n",
              "      <td>Female</td>\n",
              "      <td>39</td>\n",
              "      <td>1</td>\n",
              "      <td>0.00</td>\n",
              "      <td>2</td>\n",
              "      <td>0</td>\n",
              "      <td>0</td>\n",
              "      <td>93826.63</td>\n",
              "      <td>0</td>\n",
              "    </tr>\n",
              "    <tr>\n",
              "      <th>4</th>\n",
              "      <td>5</td>\n",
              "      <td>15737888</td>\n",
              "      <td>Mitchell</td>\n",
              "      <td>850</td>\n",
              "      <td>Spain</td>\n",
              "      <td>Female</td>\n",
              "      <td>43</td>\n",
              "      <td>2</td>\n",
              "      <td>125510.82</td>\n",
              "      <td>1</td>\n",
              "      <td>1</td>\n",
              "      <td>1</td>\n",
              "      <td>79084.10</td>\n",
              "      <td>0</td>\n",
              "    </tr>\n",
              "  </tbody>\n",
              "</table>\n",
              "</div>"
            ],
            "text/plain": [
              "   RowNumber  CustomerId   Surname  ...  IsActiveMember EstimatedSalary Exited\n",
              "0          1    15634602  Hargrave  ...               1       101348.88      1\n",
              "1          2    15647311      Hill  ...               1       112542.58      0\n",
              "2          3    15619304      Onio  ...               0       113931.57      1\n",
              "3          4    15701354      Boni  ...               0        93826.63      0\n",
              "4          5    15737888  Mitchell  ...               1        79084.10      0\n",
              "\n",
              "[5 rows x 14 columns]"
            ]
          },
          "metadata": {
            "tags": []
          },
          "execution_count": 53
        }
      ]
    },
    {
      "cell_type": "code",
      "metadata": {
        "id": "fykZ1snPTsZ-"
      },
      "source": [
        ""
      ],
      "execution_count": null,
      "outputs": []
    },
    {
      "cell_type": "markdown",
      "metadata": {
        "id": "nW0zK6D9TuFn"
      },
      "source": [
        "Data Preparation..\n",
        "\n",
        "Most machine learning algorithms can't work with some missing values, Data preparation is the process of\n",
        "transforming raw data into a form that is more appropriate for modeling. It may be the most\n",
        "important, most time consuming, and yet least discussed area of a predictive modeling machine\n",
        "learning project. Data preparation is relatively straightforward in principle, although there\n",
        "is a suite of high-level classes of techniques, each with a range of di\u000berent algorithms, and\n",
        "each appropriate for a speci\fc situation with their own hyperparameters, tips, and tricks."
      ]
    },
    {
      "cell_type": "code",
      "metadata": {
        "colab": {
          "base_uri": "https://localhost:8080/"
        },
        "id": "S4x8o7pzB1iU",
        "outputId": "c05887cd-351f-403a-ae89-45d5ebba0e7b"
      },
      "source": [
        "#let's see how many rows and columns there are in our dataset\n",
        "data.shape\n",
        "#data.columns"
      ],
      "execution_count": null,
      "outputs": [
        {
          "output_type": "execute_result",
          "data": {
            "text/plain": [
              "(10000, 14)"
            ]
          },
          "metadata": {
            "tags": []
          },
          "execution_count": 54
        }
      ]
    },
    {
      "cell_type": "markdown",
      "metadata": {
        "id": "O9axryW4CQKx"
      },
      "source": [
        "This dataset contains 10 000 rows and 14 columns.\n"
      ]
    },
    {
      "cell_type": "code",
      "metadata": {
        "colab": {
          "base_uri": "https://localhost:8080/"
        },
        "id": "kNToM-1b_RmO",
        "outputId": "7bf7c268-61c5-4863-d3b0-f356c3cf504a"
      },
      "source": [
        "#let's see if there are any missing value in our dataset\n",
        "#let's make a copy of the original dataset to not use the original \n",
        "data_copy=data.copy()\n",
        "data_copy.isnull().sum()"
      ],
      "execution_count": null,
      "outputs": [
        {
          "output_type": "execute_result",
          "data": {
            "text/plain": [
              "RowNumber          0\n",
              "CustomerId         0\n",
              "Surname            0\n",
              "CreditScore        0\n",
              "Geography          0\n",
              "Gender             0\n",
              "Age                0\n",
              "Tenure             0\n",
              "Balance            0\n",
              "NumOfProducts      0\n",
              "HasCrCard          0\n",
              "IsActiveMember     0\n",
              "EstimatedSalary    0\n",
              "Exited             0\n",
              "dtype: int64"
            ]
          },
          "metadata": {
            "tags": []
          },
          "execution_count": 55
        }
      ]
    },
    {
      "cell_type": "code",
      "metadata": {
        "colab": {
          "base_uri": "https://localhost:8080/"
        },
        "id": "sOy4svJJtDlL",
        "outputId": "434e798f-aaec-4827-a852-291dc98b6a7f"
      },
      "source": [
        "#checking for Na in the dataset\n",
        "data_copy.isna().any()"
      ],
      "execution_count": null,
      "outputs": [
        {
          "output_type": "execute_result",
          "data": {
            "text/plain": [
              "RowNumber          False\n",
              "CustomerId         False\n",
              "Surname            False\n",
              "CreditScore        False\n",
              "Geography          False\n",
              "Gender             False\n",
              "Age                False\n",
              "Tenure             False\n",
              "Balance            False\n",
              "NumOfProducts      False\n",
              "HasCrCard          False\n",
              "IsActiveMember     False\n",
              "EstimatedSalary    False\n",
              "Exited             False\n",
              "dtype: bool"
            ]
          },
          "metadata": {
            "tags": []
          },
          "execution_count": 56
        }
      ]
    },
    {
      "cell_type": "markdown",
      "metadata": {
        "id": "aw68SieQttRt"
      },
      "source": [
        "after running these two commands,it seems that our dataset do not contains any missing values.)"
      ]
    },
    {
      "cell_type": "markdown",
      "metadata": {
        "id": "_mDMaBPXPium"
      },
      "source": [
        "The info() method is useful to get a quick description of the data, in particular the\n",
        "total number of rows, and each attribute’s type and number of non-null values"
      ]
    },
    {
      "cell_type": "code",
      "metadata": {
        "colab": {
          "base_uri": "https://localhost:8080/"
        },
        "id": "xtp0_At6Pta2",
        "outputId": "64e5842d-068d-4d5f-d7ab-a073f2596b09"
      },
      "source": [
        "#the info() method\n",
        "data_copy.info()"
      ],
      "execution_count": null,
      "outputs": [
        {
          "output_type": "stream",
          "text": [
            "<class 'pandas.core.frame.DataFrame'>\n",
            "RangeIndex: 10000 entries, 0 to 9999\n",
            "Data columns (total 14 columns):\n",
            " #   Column           Non-Null Count  Dtype  \n",
            "---  ------           --------------  -----  \n",
            " 0   RowNumber        10000 non-null  int64  \n",
            " 1   CustomerId       10000 non-null  int64  \n",
            " 2   Surname          10000 non-null  object \n",
            " 3   CreditScore      10000 non-null  int64  \n",
            " 4   Geography        10000 non-null  object \n",
            " 5   Gender           10000 non-null  object \n",
            " 6   Age              10000 non-null  int64  \n",
            " 7   Tenure           10000 non-null  int64  \n",
            " 8   Balance          10000 non-null  float64\n",
            " 9   NumOfProducts    10000 non-null  int64  \n",
            " 10  HasCrCard        10000 non-null  int64  \n",
            " 11  IsActiveMember   10000 non-null  int64  \n",
            " 12  EstimatedSalary  10000 non-null  float64\n",
            " 13  Exited           10000 non-null  int64  \n",
            "dtypes: float64(2), int64(9), object(3)\n",
            "memory usage: 1.1+ MB\n"
          ],
          "name": "stdout"
        }
      ]
    },
    {
      "cell_type": "code",
      "metadata": {
        "colab": {
          "base_uri": "https://localhost:8080/"
        },
        "id": "ChJ5SbFE_QXW",
        "outputId": "a9642a91-14ac-4548-bd2f-73e1d05d24a6"
      },
      "source": [
        "#we can check out the dtypes of the data\n",
        "data_copy.dtypes.value_counts(normalize= True)"
      ],
      "execution_count": null,
      "outputs": [
        {
          "output_type": "execute_result",
          "data": {
            "text/plain": [
              "int64      0.642857\n",
              "object     0.214286\n",
              "float64    0.142857\n",
              "dtype: float64"
            ]
          },
          "metadata": {
            "tags": []
          },
          "execution_count": 58
        }
      ]
    },
    {
      "cell_type": "markdown",
      "metadata": {
        "id": "kvpBZN4sD8E0"
      },
      "source": [
        "After checking out attributes' type in our dataset,i get insight that our dataset contains 64% of attributes are integers' type,21% of attrinutes are objects'type and 14% are float's type"
      ]
    },
    {
      "cell_type": "code",
      "metadata": {
        "colab": {
          "base_uri": "https://localhost:8080/",
          "height": 410
        },
        "id": "FuodkYJ__QCL",
        "outputId": "4ed8e5fc-7727-48bb-d4e1-879379456c04"
      },
      "source": [
        "#let's see how the correlation between the attributes looks like\n",
        "correlation= data_copy.corr()\n",
        "correlation"
      ],
      "execution_count": null,
      "outputs": [
        {
          "output_type": "execute_result",
          "data": {
            "text/html": [
              "<div>\n",
              "<style scoped>\n",
              "    .dataframe tbody tr th:only-of-type {\n",
              "        vertical-align: middle;\n",
              "    }\n",
              "\n",
              "    .dataframe tbody tr th {\n",
              "        vertical-align: top;\n",
              "    }\n",
              "\n",
              "    .dataframe thead th {\n",
              "        text-align: right;\n",
              "    }\n",
              "</style>\n",
              "<table border=\"1\" class=\"dataframe\">\n",
              "  <thead>\n",
              "    <tr style=\"text-align: right;\">\n",
              "      <th></th>\n",
              "      <th>RowNumber</th>\n",
              "      <th>CustomerId</th>\n",
              "      <th>CreditScore</th>\n",
              "      <th>Age</th>\n",
              "      <th>Tenure</th>\n",
              "      <th>Balance</th>\n",
              "      <th>NumOfProducts</th>\n",
              "      <th>HasCrCard</th>\n",
              "      <th>IsActiveMember</th>\n",
              "      <th>EstimatedSalary</th>\n",
              "      <th>Exited</th>\n",
              "    </tr>\n",
              "  </thead>\n",
              "  <tbody>\n",
              "    <tr>\n",
              "      <th>RowNumber</th>\n",
              "      <td>1.000000</td>\n",
              "      <td>0.004202</td>\n",
              "      <td>0.005840</td>\n",
              "      <td>0.000783</td>\n",
              "      <td>-0.006495</td>\n",
              "      <td>-0.009067</td>\n",
              "      <td>0.007246</td>\n",
              "      <td>0.000599</td>\n",
              "      <td>0.012044</td>\n",
              "      <td>-0.005988</td>\n",
              "      <td>-0.016571</td>\n",
              "    </tr>\n",
              "    <tr>\n",
              "      <th>CustomerId</th>\n",
              "      <td>0.004202</td>\n",
              "      <td>1.000000</td>\n",
              "      <td>0.005308</td>\n",
              "      <td>0.009497</td>\n",
              "      <td>-0.014883</td>\n",
              "      <td>-0.012419</td>\n",
              "      <td>0.016972</td>\n",
              "      <td>-0.014025</td>\n",
              "      <td>0.001665</td>\n",
              "      <td>0.015271</td>\n",
              "      <td>-0.006248</td>\n",
              "    </tr>\n",
              "    <tr>\n",
              "      <th>CreditScore</th>\n",
              "      <td>0.005840</td>\n",
              "      <td>0.005308</td>\n",
              "      <td>1.000000</td>\n",
              "      <td>-0.003965</td>\n",
              "      <td>0.000842</td>\n",
              "      <td>0.006268</td>\n",
              "      <td>0.012238</td>\n",
              "      <td>-0.005458</td>\n",
              "      <td>0.025651</td>\n",
              "      <td>-0.001384</td>\n",
              "      <td>-0.027094</td>\n",
              "    </tr>\n",
              "    <tr>\n",
              "      <th>Age</th>\n",
              "      <td>0.000783</td>\n",
              "      <td>0.009497</td>\n",
              "      <td>-0.003965</td>\n",
              "      <td>1.000000</td>\n",
              "      <td>-0.009997</td>\n",
              "      <td>0.028308</td>\n",
              "      <td>-0.030680</td>\n",
              "      <td>-0.011721</td>\n",
              "      <td>0.085472</td>\n",
              "      <td>-0.007201</td>\n",
              "      <td>0.285323</td>\n",
              "    </tr>\n",
              "    <tr>\n",
              "      <th>Tenure</th>\n",
              "      <td>-0.006495</td>\n",
              "      <td>-0.014883</td>\n",
              "      <td>0.000842</td>\n",
              "      <td>-0.009997</td>\n",
              "      <td>1.000000</td>\n",
              "      <td>-0.012254</td>\n",
              "      <td>0.013444</td>\n",
              "      <td>0.022583</td>\n",
              "      <td>-0.028362</td>\n",
              "      <td>0.007784</td>\n",
              "      <td>-0.014001</td>\n",
              "    </tr>\n",
              "    <tr>\n",
              "      <th>Balance</th>\n",
              "      <td>-0.009067</td>\n",
              "      <td>-0.012419</td>\n",
              "      <td>0.006268</td>\n",
              "      <td>0.028308</td>\n",
              "      <td>-0.012254</td>\n",
              "      <td>1.000000</td>\n",
              "      <td>-0.304180</td>\n",
              "      <td>-0.014858</td>\n",
              "      <td>-0.010084</td>\n",
              "      <td>0.012797</td>\n",
              "      <td>0.118533</td>\n",
              "    </tr>\n",
              "    <tr>\n",
              "      <th>NumOfProducts</th>\n",
              "      <td>0.007246</td>\n",
              "      <td>0.016972</td>\n",
              "      <td>0.012238</td>\n",
              "      <td>-0.030680</td>\n",
              "      <td>0.013444</td>\n",
              "      <td>-0.304180</td>\n",
              "      <td>1.000000</td>\n",
              "      <td>0.003183</td>\n",
              "      <td>0.009612</td>\n",
              "      <td>0.014204</td>\n",
              "      <td>-0.047820</td>\n",
              "    </tr>\n",
              "    <tr>\n",
              "      <th>HasCrCard</th>\n",
              "      <td>0.000599</td>\n",
              "      <td>-0.014025</td>\n",
              "      <td>-0.005458</td>\n",
              "      <td>-0.011721</td>\n",
              "      <td>0.022583</td>\n",
              "      <td>-0.014858</td>\n",
              "      <td>0.003183</td>\n",
              "      <td>1.000000</td>\n",
              "      <td>-0.011866</td>\n",
              "      <td>-0.009933</td>\n",
              "      <td>-0.007138</td>\n",
              "    </tr>\n",
              "    <tr>\n",
              "      <th>IsActiveMember</th>\n",
              "      <td>0.012044</td>\n",
              "      <td>0.001665</td>\n",
              "      <td>0.025651</td>\n",
              "      <td>0.085472</td>\n",
              "      <td>-0.028362</td>\n",
              "      <td>-0.010084</td>\n",
              "      <td>0.009612</td>\n",
              "      <td>-0.011866</td>\n",
              "      <td>1.000000</td>\n",
              "      <td>-0.011421</td>\n",
              "      <td>-0.156128</td>\n",
              "    </tr>\n",
              "    <tr>\n",
              "      <th>EstimatedSalary</th>\n",
              "      <td>-0.005988</td>\n",
              "      <td>0.015271</td>\n",
              "      <td>-0.001384</td>\n",
              "      <td>-0.007201</td>\n",
              "      <td>0.007784</td>\n",
              "      <td>0.012797</td>\n",
              "      <td>0.014204</td>\n",
              "      <td>-0.009933</td>\n",
              "      <td>-0.011421</td>\n",
              "      <td>1.000000</td>\n",
              "      <td>0.012097</td>\n",
              "    </tr>\n",
              "    <tr>\n",
              "      <th>Exited</th>\n",
              "      <td>-0.016571</td>\n",
              "      <td>-0.006248</td>\n",
              "      <td>-0.027094</td>\n",
              "      <td>0.285323</td>\n",
              "      <td>-0.014001</td>\n",
              "      <td>0.118533</td>\n",
              "      <td>-0.047820</td>\n",
              "      <td>-0.007138</td>\n",
              "      <td>-0.156128</td>\n",
              "      <td>0.012097</td>\n",
              "      <td>1.000000</td>\n",
              "    </tr>\n",
              "  </tbody>\n",
              "</table>\n",
              "</div>"
            ],
            "text/plain": [
              "                 RowNumber  CustomerId  ...  EstimatedSalary    Exited\n",
              "RowNumber         1.000000    0.004202  ...        -0.005988 -0.016571\n",
              "CustomerId        0.004202    1.000000  ...         0.015271 -0.006248\n",
              "CreditScore       0.005840    0.005308  ...        -0.001384 -0.027094\n",
              "Age               0.000783    0.009497  ...        -0.007201  0.285323\n",
              "Tenure           -0.006495   -0.014883  ...         0.007784 -0.014001\n",
              "Balance          -0.009067   -0.012419  ...         0.012797  0.118533\n",
              "NumOfProducts     0.007246    0.016972  ...         0.014204 -0.047820\n",
              "HasCrCard         0.000599   -0.014025  ...        -0.009933 -0.007138\n",
              "IsActiveMember    0.012044    0.001665  ...        -0.011421 -0.156128\n",
              "EstimatedSalary  -0.005988    0.015271  ...         1.000000  0.012097\n",
              "Exited           -0.016571   -0.006248  ...         0.012097  1.000000\n",
              "\n",
              "[11 rows x 11 columns]"
            ]
          },
          "metadata": {
            "tags": []
          },
          "execution_count": 59
        }
      ]
    },
    {
      "cell_type": "markdown",
      "metadata": {
        "id": "G1JjJVxEKkB8"
      },
      "source": [
        "After checking out the correlation between the attributes I can confirm that there are not any hight correlation between the attributes."
      ]
    },
    {
      "cell_type": "code",
      "metadata": {
        "colab": {
          "base_uri": "https://localhost:8080/",
          "height": 317
        },
        "id": "YyPhuJfCo1M3",
        "outputId": "f9b1f944-bce3-43df-d578-ad2a0edb7baa"
      },
      "source": [
        "#let's make a quickly stat summary\n",
        "data_copy.describe()"
      ],
      "execution_count": null,
      "outputs": [
        {
          "output_type": "execute_result",
          "data": {
            "text/html": [
              "<div>\n",
              "<style scoped>\n",
              "    .dataframe tbody tr th:only-of-type {\n",
              "        vertical-align: middle;\n",
              "    }\n",
              "\n",
              "    .dataframe tbody tr th {\n",
              "        vertical-align: top;\n",
              "    }\n",
              "\n",
              "    .dataframe thead th {\n",
              "        text-align: right;\n",
              "    }\n",
              "</style>\n",
              "<table border=\"1\" class=\"dataframe\">\n",
              "  <thead>\n",
              "    <tr style=\"text-align: right;\">\n",
              "      <th></th>\n",
              "      <th>RowNumber</th>\n",
              "      <th>CustomerId</th>\n",
              "      <th>CreditScore</th>\n",
              "      <th>Age</th>\n",
              "      <th>Tenure</th>\n",
              "      <th>Balance</th>\n",
              "      <th>NumOfProducts</th>\n",
              "      <th>HasCrCard</th>\n",
              "      <th>IsActiveMember</th>\n",
              "      <th>EstimatedSalary</th>\n",
              "      <th>Exited</th>\n",
              "    </tr>\n",
              "  </thead>\n",
              "  <tbody>\n",
              "    <tr>\n",
              "      <th>count</th>\n",
              "      <td>10000.00000</td>\n",
              "      <td>1.000000e+04</td>\n",
              "      <td>10000.000000</td>\n",
              "      <td>10000.000000</td>\n",
              "      <td>10000.000000</td>\n",
              "      <td>10000.000000</td>\n",
              "      <td>10000.000000</td>\n",
              "      <td>10000.00000</td>\n",
              "      <td>10000.000000</td>\n",
              "      <td>10000.000000</td>\n",
              "      <td>10000.000000</td>\n",
              "    </tr>\n",
              "    <tr>\n",
              "      <th>mean</th>\n",
              "      <td>5000.50000</td>\n",
              "      <td>1.569094e+07</td>\n",
              "      <td>650.528800</td>\n",
              "      <td>38.921800</td>\n",
              "      <td>5.012800</td>\n",
              "      <td>76485.889288</td>\n",
              "      <td>1.530200</td>\n",
              "      <td>0.70550</td>\n",
              "      <td>0.515100</td>\n",
              "      <td>100090.239881</td>\n",
              "      <td>0.203700</td>\n",
              "    </tr>\n",
              "    <tr>\n",
              "      <th>std</th>\n",
              "      <td>2886.89568</td>\n",
              "      <td>7.193619e+04</td>\n",
              "      <td>96.653299</td>\n",
              "      <td>10.487806</td>\n",
              "      <td>2.892174</td>\n",
              "      <td>62397.405202</td>\n",
              "      <td>0.581654</td>\n",
              "      <td>0.45584</td>\n",
              "      <td>0.499797</td>\n",
              "      <td>57510.492818</td>\n",
              "      <td>0.402769</td>\n",
              "    </tr>\n",
              "    <tr>\n",
              "      <th>min</th>\n",
              "      <td>1.00000</td>\n",
              "      <td>1.556570e+07</td>\n",
              "      <td>350.000000</td>\n",
              "      <td>18.000000</td>\n",
              "      <td>0.000000</td>\n",
              "      <td>0.000000</td>\n",
              "      <td>1.000000</td>\n",
              "      <td>0.00000</td>\n",
              "      <td>0.000000</td>\n",
              "      <td>11.580000</td>\n",
              "      <td>0.000000</td>\n",
              "    </tr>\n",
              "    <tr>\n",
              "      <th>25%</th>\n",
              "      <td>2500.75000</td>\n",
              "      <td>1.562853e+07</td>\n",
              "      <td>584.000000</td>\n",
              "      <td>32.000000</td>\n",
              "      <td>3.000000</td>\n",
              "      <td>0.000000</td>\n",
              "      <td>1.000000</td>\n",
              "      <td>0.00000</td>\n",
              "      <td>0.000000</td>\n",
              "      <td>51002.110000</td>\n",
              "      <td>0.000000</td>\n",
              "    </tr>\n",
              "    <tr>\n",
              "      <th>50%</th>\n",
              "      <td>5000.50000</td>\n",
              "      <td>1.569074e+07</td>\n",
              "      <td>652.000000</td>\n",
              "      <td>37.000000</td>\n",
              "      <td>5.000000</td>\n",
              "      <td>97198.540000</td>\n",
              "      <td>1.000000</td>\n",
              "      <td>1.00000</td>\n",
              "      <td>1.000000</td>\n",
              "      <td>100193.915000</td>\n",
              "      <td>0.000000</td>\n",
              "    </tr>\n",
              "    <tr>\n",
              "      <th>75%</th>\n",
              "      <td>7500.25000</td>\n",
              "      <td>1.575323e+07</td>\n",
              "      <td>718.000000</td>\n",
              "      <td>44.000000</td>\n",
              "      <td>7.000000</td>\n",
              "      <td>127644.240000</td>\n",
              "      <td>2.000000</td>\n",
              "      <td>1.00000</td>\n",
              "      <td>1.000000</td>\n",
              "      <td>149388.247500</td>\n",
              "      <td>0.000000</td>\n",
              "    </tr>\n",
              "    <tr>\n",
              "      <th>max</th>\n",
              "      <td>10000.00000</td>\n",
              "      <td>1.581569e+07</td>\n",
              "      <td>850.000000</td>\n",
              "      <td>92.000000</td>\n",
              "      <td>10.000000</td>\n",
              "      <td>250898.090000</td>\n",
              "      <td>4.000000</td>\n",
              "      <td>1.00000</td>\n",
              "      <td>1.000000</td>\n",
              "      <td>199992.480000</td>\n",
              "      <td>1.000000</td>\n",
              "    </tr>\n",
              "  </tbody>\n",
              "</table>\n",
              "</div>"
            ],
            "text/plain": [
              "         RowNumber    CustomerId  ...  EstimatedSalary        Exited\n",
              "count  10000.00000  1.000000e+04  ...     10000.000000  10000.000000\n",
              "mean    5000.50000  1.569094e+07  ...    100090.239881      0.203700\n",
              "std     2886.89568  7.193619e+04  ...     57510.492818      0.402769\n",
              "min        1.00000  1.556570e+07  ...        11.580000      0.000000\n",
              "25%     2500.75000  1.562853e+07  ...     51002.110000      0.000000\n",
              "50%     5000.50000  1.569074e+07  ...    100193.915000      0.000000\n",
              "75%     7500.25000  1.575323e+07  ...    149388.247500      0.000000\n",
              "max    10000.00000  1.581569e+07  ...    199992.480000      1.000000\n",
              "\n",
              "[8 rows x 11 columns]"
            ]
          },
          "metadata": {
            "tags": []
          },
          "execution_count": 60
        }
      ]
    },
    {
      "cell_type": "code",
      "metadata": {
        "id": "--oXdppQ_PX8",
        "colab": {
          "base_uri": "https://localhost:8080/"
        },
        "outputId": "cb9ea70b-a86b-4143-87d4-f89cf541b1fe"
      },
      "source": [
        "#let's look into the target variable  \n",
        "data_copy['Exited'].value_counts(normalize=True)"
      ],
      "execution_count": null,
      "outputs": [
        {
          "output_type": "execute_result",
          "data": {
            "text/plain": [
              "0    0.7963\n",
              "1    0.2037\n",
              "Name: Exited, dtype: float64"
            ]
          },
          "metadata": {
            "tags": []
          },
          "execution_count": 61
        }
      ]
    },
    {
      "cell_type": "markdown",
      "metadata": {
        "id": "tPxog0EJ5J0s"
      },
      "source": [
        "As we can see in our target variable there are two numbers 0 and 1, 0 means that customers did not churn , and one means that customers churned,I can say after checking out the target variable i can confirm that most of customers did not churn."
      ]
    },
    {
      "cell_type": "code",
      "metadata": {
        "colab": {
          "base_uri": "https://localhost:8080/"
        },
        "id": "nGIdprPz5AmK",
        "outputId": "e9d590dc-531f-4c1e-d5d6-778b345944ca"
      },
      "source": [
        "#let's see how the correlation of the target variable looks like \n",
        "data_copy.corr()['Exited'].sort_values() "
      ],
      "execution_count": null,
      "outputs": [
        {
          "output_type": "execute_result",
          "data": {
            "text/plain": [
              "IsActiveMember    -0.156128\n",
              "NumOfProducts     -0.047820\n",
              "CreditScore       -0.027094\n",
              "RowNumber         -0.016571\n",
              "Tenure            -0.014001\n",
              "HasCrCard         -0.007138\n",
              "CustomerId        -0.006248\n",
              "EstimatedSalary    0.012097\n",
              "Balance            0.118533\n",
              "Age                0.285323\n",
              "Exited             1.000000\n",
              "Name: Exited, dtype: float64"
            ]
          },
          "metadata": {
            "tags": []
          },
          "execution_count": 62
        }
      ]
    },
    {
      "cell_type": "markdown",
      "metadata": {
        "id": "zfrU0OVt8z2B"
      },
      "source": [
        "There is no highest correlation between the target variable and others."
      ]
    },
    {
      "cell_type": "code",
      "metadata": {
        "id": "-o3beidoF7C3",
        "colab": {
          "base_uri": "https://localhost:8080/"
        },
        "outputId": "123bfccc-fa17-4b3d-9b0b-c508f2600676"
      },
      "source": [
        "#let's see how many customers that have credit card \n",
        "data_copy['HasCrCard'].value_counts(normalize= True)"
      ],
      "execution_count": null,
      "outputs": [
        {
          "output_type": "execute_result",
          "data": {
            "text/plain": [
              "1    0.7055\n",
              "0    0.2945\n",
              "Name: HasCrCard, dtype: float64"
            ]
          },
          "metadata": {
            "tags": []
          },
          "execution_count": 63
        }
      ]
    },
    {
      "cell_type": "markdown",
      "metadata": {
        "id": "W7VMJAQc9r0I"
      },
      "source": [
        "After checking out the attribute HascrCard in our dataset, i get an insight that it looks like 70,55% of customers have a credit card , and only 29,45% do not have."
      ]
    },
    {
      "cell_type": "code",
      "metadata": {
        "id": "ULccd-dlF721",
        "colab": {
          "base_uri": "https://localhost:8080/"
        },
        "outputId": "05aa566f-dc18-4c25-b6e3-445362d75f55"
      },
      "source": [
        "#let's how many customers are active members\n",
        "data_copy['IsActiveMember'].value_counts(normalize=True)"
      ],
      "execution_count": null,
      "outputs": [
        {
          "output_type": "execute_result",
          "data": {
            "text/plain": [
              "1    0.5151\n",
              "0    0.4849\n",
              "Name: IsActiveMember, dtype: float64"
            ]
          },
          "metadata": {
            "tags": []
          },
          "execution_count": 64
        }
      ]
    },
    {
      "cell_type": "markdown",
      "metadata": {
        "id": "YblevlMv_v5z"
      },
      "source": [
        "After checking attributes Isactivemember in our dataset, i get an insight that it looks like 51,51% of customers are active members , and 48,49% are not."
      ]
    },
    {
      "cell_type": "code",
      "metadata": {
        "id": "3XrwwPSvF8if",
        "colab": {
          "base_uri": "https://localhost:8080/"
        },
        "outputId": "cd03a8d6-4efa-4cbf-f2dd-a8f72b5091d3"
      },
      "source": [
        "#check the estimated salary\n",
        "data_copy['EstimatedSalary'].max()"
      ],
      "execution_count": null,
      "outputs": [
        {
          "output_type": "execute_result",
          "data": {
            "text/plain": [
              "199992.48"
            ]
          },
          "metadata": {
            "tags": []
          },
          "execution_count": 65
        }
      ]
    },
    {
      "cell_type": "code",
      "metadata": {
        "colab": {
          "base_uri": "https://localhost:8080/"
        },
        "id": "W6d2zQ4J8l6v",
        "outputId": "92e82d75-81f7-44a6-8d20-1307df49fe5b"
      },
      "source": [
        "#let's check out the attribute Geography to see in how many countries that we have customers\n",
        "data_copy['Geography'].value_counts()"
      ],
      "execution_count": null,
      "outputs": [
        {
          "output_type": "execute_result",
          "data": {
            "text/plain": [
              "France     5014\n",
              "Germany    2509\n",
              "Spain      2477\n",
              "Name: Geography, dtype: int64"
            ]
          },
          "metadata": {
            "tags": []
          },
          "execution_count": 66
        }
      ]
    },
    {
      "cell_type": "code",
      "metadata": {
        "id": "E1U8ylZi9B9F"
      },
      "source": [
        "As we can see , we have customers in three differents countires, France, Germany and spain"
      ],
      "execution_count": null,
      "outputs": []
    },
    {
      "cell_type": "markdown",
      "metadata": {
        "id": "tp_B5b53bSFZ"
      },
      "source": [
        "As we can see,we have customers in three differents countries, France, Germany and spain."
      ]
    },
    {
      "cell_type": "code",
      "metadata": {
        "id": "XMxVM5U3CB5a"
      },
      "source": [
        ""
      ],
      "execution_count": null,
      "outputs": []
    },
    {
      "cell_type": "markdown",
      "metadata": {
        "id": "lfrDDnhSCDQc"
      },
      "source": [
        "\n",
        "Data Visualization."
      ]
    },
    {
      "cell_type": "code",
      "metadata": {
        "colab": {
          "base_uri": "https://localhost:8080/",
          "height": 739
        },
        "id": "ja_meV5VCBg4",
        "outputId": "dbc8c8fd-9e94-4aa4-a1d5-3ecaa4d19ab5"
      },
      "source": [
        "#correlation matrix of our dataset\n",
        "f, ax= plt.subplots(figsize=(10,11))\n",
        "sns.heatmap(correlation, annot= True)"
      ],
      "execution_count": null,
      "outputs": [
        {
          "output_type": "execute_result",
          "data": {
            "text/plain": [
              "<matplotlib.axes._subplots.AxesSubplot at 0x7fe9477c9a10>"
            ]
          },
          "metadata": {
            "tags": []
          },
          "execution_count": 67
        },
        {
          "output_type": "display_data",
          "data": {
            "image/png": "[encoded data removed]",
            "text/plain": [
              "<Figure size 720x792 with 2 Axes>"
            ]
          },
          "metadata": {
            "tags": [],
            "needs_background": "light"
          }
        }
      ]
    },
    {
      "cell_type": "markdown",
      "metadata": {
        "id": "gTHcEF90C_8G"
      },
      "source": [
        "no highest correlation."
      ]
    },
    {
      "cell_type": "code",
      "metadata": {
        "colab": {
          "base_uri": "https://localhost:8080/",
          "height": 496
        },
        "id": "nTJ-2F8OCBLp",
        "outputId": "57a95aca-c388-4b01-ac5f-0cfe339dfca8"
      },
      "source": [
        "#let's see how target's distribution looks like \n",
        "f,ax= plt.subplots(figsize=(6,7))\n",
        "sns.distplot(data_copy.Exited);"
      ],
      "execution_count": null,
      "outputs": [
        {
          "output_type": "stream",
          "text": [
            "/usr/local/lib/python3.7/dist-packages/seaborn/distributions.py:2557: FutureWarning: `distplot` is a deprecated function and will be removed in a future version. Please adapt your code to use either `displot` (a figure-level function with similar flexibility) or `histplot` (an axes-level function for histograms).\n",
            "  warnings.warn(msg, FutureWarning)\n"
          ],
          "name": "stderr"
        },
        {
          "output_type": "display_data",
          "data": {
            "image/png": "[encoded data removed]",
            "text/plain": [
              "<Figure size 432x504 with 1 Axes>"
            ]
          },
          "metadata": {
            "tags": [],
            "needs_background": "light"
          }
        }
      ]
    },
    {
      "cell_type": "markdown",
      "metadata": {
        "id": "4V78p14LFBBS"
      },
      "source": [
        "Distribution of target variable Exited, shows us that the most of customers do not shurn."
      ]
    },
    {
      "cell_type": "code",
      "metadata": {
        "colab": {
          "base_uri": "https://localhost:8080/",
          "height": 296
        },
        "id": "9xW0pcKUHuwR",
        "outputId": "a3fc3369-e028-4280-c781-542c28d7fb37"
      },
      "source": [
        "#let's see how many women and men that churn\n",
        "sns.countplot(x='Gender', hue='Exited', data=data_copy)"
      ],
      "execution_count": null,
      "outputs": [
        {
          "output_type": "execute_result",
          "data": {
            "text/plain": [
              "<matplotlib.axes._subplots.AxesSubplot at 0x7fe949dd9e50>"
            ]
          },
          "metadata": {
            "tags": []
          },
          "execution_count": 69
        },
        {
          "output_type": "display_data",
          "data": {
            "image/png": "[encoded data removed]",
            "text/plain": [
              "<Figure size 432x288 with 1 Axes>"
            ]
          },
          "metadata": {
            "tags": [],
            "needs_background": "light"
          }
        }
      ]
    },
    {
      "cell_type": "code",
      "metadata": {
        "colab": {
          "base_uri": "https://localhost:8080/",
          "height": 296
        },
        "id": "FGnl8qBh9hld",
        "outputId": "73fdb67c-7725-4abe-b02d-0d7307cbffe0"
      },
      "source": [
        "#let's see how many women and men that churn\n",
        "sns.countplot(x='Geography', hue='Exited', data=data_copy)"
      ],
      "execution_count": null,
      "outputs": [
        {
          "output_type": "execute_result",
          "data": {
            "text/plain": [
              "<matplotlib.axes._subplots.AxesSubplot at 0x7fe946e0c410>"
            ]
          },
          "metadata": {
            "tags": []
          },
          "execution_count": 71
        },
        {
          "output_type": "display_data",
          "data": {
            "image/png": "[encoded data removed]",
            "text/plain": [
              "<Figure size 432x288 with 1 Axes>"
            ]
          },
          "metadata": {
            "tags": [],
            "needs_background": "light"
          }
        }
      ]
    },
    {
      "cell_type": "code",
      "metadata": {
        "colab": {
          "base_uri": "https://localhost:8080/",
          "height": 507
        },
        "id": "0AvNInIPDP4R",
        "outputId": "eac9b4b1-4dd5-44e5-dce9-ef5398dfdfb7"
      },
      "source": [
        "#let's check estimated salary distribution looks like\n",
        "f,ax= plt.subplots(figsize=(6,7))\n",
        "sns.distplot(data_copy.EstimatedSalary);"
      ],
      "execution_count": null,
      "outputs": [
        {
          "output_type": "stream",
          "text": [
            "/usr/local/lib/python3.7/dist-packages/seaborn/distributions.py:2557: FutureWarning: `distplot` is a deprecated function and will be removed in a future version. Please adapt your code to use either `displot` (a figure-level function with similar flexibility) or `histplot` (an axes-level function for histograms).\n",
            "  warnings.warn(msg, FutureWarning)\n"
          ],
          "name": "stderr"
        },
        {
          "output_type": "display_data",
          "data": {
            "image/png": "[encoded data removed]",
            "text/plain": [
              "<Figure size 432x504 with 1 Axes>"
            ]
          },
          "metadata": {
            "tags": [],
            "needs_background": "light"
          }
        }
      ]
    },
    {
      "cell_type": "code",
      "metadata": {
        "colab": {
          "base_uri": "https://localhost:8080/"
        },
        "id": "xugbzmyvNtaR",
        "outputId": "217325e1-5839-44e1-d3b3-b95b4e09bd0d"
      },
      "source": [
        "from scipy import stats\n",
        "stats.skew(data_copy.EstimatedSalary)"
      ],
      "execution_count": null,
      "outputs": [
        {
          "output_type": "execute_result",
          "data": {
            "text/plain": [
              "0.0020850448448748848"
            ]
          },
          "metadata": {
            "tags": []
          },
          "execution_count": 73
        }
      ]
    },
    {
      "cell_type": "markdown",
      "metadata": {
        "id": "lIQGTiTyQUdx"
      },
      "source": [
        "After checking the estimated salary of customers, i get an insight that seems to be a normal distribution."
      ]
    },
    {
      "cell_type": "code",
      "metadata": {
        "colab": {
          "base_uri": "https://localhost:8080/",
          "height": 507
        },
        "id": "COIBFMJKS8vH",
        "outputId": "d4fc2263-5080-482d-b889-dc45139eefc0"
      },
      "source": [
        "f,ax= plt.subplots(figsize=(6,7))\n",
        "sns.distplot(data_copy.Balance);"
      ],
      "execution_count": null,
      "outputs": [
        {
          "output_type": "stream",
          "text": [
            "/usr/local/lib/python3.7/dist-packages/seaborn/distributions.py:2557: FutureWarning: `distplot` is a deprecated function and will be removed in a future version. Please adapt your code to use either `displot` (a figure-level function with similar flexibility) or `histplot` (an axes-level function for histograms).\n",
            "  warnings.warn(msg, FutureWarning)\n"
          ],
          "name": "stderr"
        },
        {
          "output_type": "display_data",
          "data": {
            "image/png": "[encoded data removed]",
            "text/plain": [
              "<Figure size 432x504 with 1 Axes>"
            ]
          },
          "metadata": {
            "tags": [],
            "needs_background": "light"
          }
        }
      ]
    },
    {
      "cell_type": "markdown",
      "metadata": {
        "id": "8cKeAJdBVs-y"
      },
      "source": [
        "The distribution of the attribute Blance"
      ]
    },
    {
      "cell_type": "code",
      "metadata": {
        "colab": {
          "base_uri": "https://localhost:8080/"
        },
        "id": "rDKURrQEUHP2",
        "outputId": "7118e384-8438-4797-d324-e1c0fdd51a58"
      },
      "source": [
        "#calculate the skewness\n",
        "from scipy import stats\n",
        "stats.skew(data_copy.Balance)"
      ],
      "execution_count": null,
      "outputs": [
        {
          "output_type": "execute_result",
          "data": {
            "text/plain": [
              "-0.14108754375291138"
            ]
          },
          "metadata": {
            "tags": []
          },
          "execution_count": 75
        }
      ]
    },
    {
      "cell_type": "markdown",
      "metadata": {
        "id": "2R9RPcUrVl2q"
      },
      "source": [
        "*After* checking out the attribute balance i can say that there is a negative skewness."
      ]
    },
    {
      "cell_type": "code",
      "metadata": {
        "id": "_8p9osEtTZif"
      },
      "source": [
        ""
      ],
      "execution_count": null,
      "outputs": []
    },
    {
      "cell_type": "code",
      "metadata": {
        "colab": {
          "base_uri": "https://localhost:8080/",
          "height": 358
        },
        "id": "uVeIZrJVE_3z",
        "outputId": "d81752bb-2112-4466-a043-cee37db5257e"
      },
      "source": [
        "#let's check out missing value on the graph\n",
        "sns.heatmap(data_copy.isnull())"
      ],
      "execution_count": null,
      "outputs": [
        {
          "output_type": "execute_result",
          "data": {
            "text/plain": [
              "<matplotlib.axes._subplots.AxesSubplot at 0x7fe946c89850>"
            ]
          },
          "metadata": {
            "tags": []
          },
          "execution_count": 76
        },
        {
          "output_type": "display_data",
          "data": {
            "image/png": "[encoded data removed]",
            "text/plain": [
              "<Figure size 432x288 with 2 Axes>"
            ]
          },
          "metadata": {
            "tags": [],
            "needs_background": "light"
          }
        }
      ]
    },
    {
      "cell_type": "markdown",
      "metadata": {
        "id": "Ltu-w56pF2b3"
      },
      "source": [
        ""
      ]
    },
    {
      "cell_type": "markdown",
      "metadata": {
        "id": "S92fUyPGNNLL"
      },
      "source": [
        "Identify Outliers in the dataset,Many machine learning algorithms are sensitive to the range and distribution of attribute values in the input data.Outliers in input data can skew and mislead the training process of the machine learning algorithmresulting in longer training times ,less accurate models "
      ]
    },
    {
      "cell_type": "code",
      "metadata": {
        "id": "7hXMDkIjCAZc",
        "colab": {
          "base_uri": "https://localhost:8080/",
          "height": 350
        },
        "outputId": "2b818d17-a3d0-4ec3-876e-deb857a464fc"
      },
      "source": [
        "#identifying outliers\n",
        "sns.boxplot(data_copy['Age'])"
      ],
      "execution_count": null,
      "outputs": [
        {
          "output_type": "stream",
          "text": [
            "/usr/local/lib/python3.7/dist-packages/seaborn/_decorators.py:43: FutureWarning: Pass the following variable as a keyword arg: x. From version 0.12, the only valid positional argument will be `data`, and passing other arguments without an explicit keyword will result in an error or misinterpretation.\n",
            "  FutureWarning\n"
          ],
          "name": "stderr"
        },
        {
          "output_type": "execute_result",
          "data": {
            "text/plain": [
              "<matplotlib.axes._subplots.AxesSubplot at 0x7fe946b50e50>"
            ]
          },
          "metadata": {
            "tags": []
          },
          "execution_count": 77
        },
        {
          "output_type": "display_data",
          "data": {
            "image/png": "[encoded data removed]",
            "text/plain": [
              "<Figure size 432x288 with 1 Axes>"
            ]
          },
          "metadata": {
            "tags": [],
            "needs_background": "light"
          }
        }
      ]
    },
    {
      "cell_type": "code",
      "metadata": {
        "colab": {
          "base_uri": "https://localhost:8080/",
          "height": 439
        },
        "id": "4-tS06_aU_HG",
        "outputId": "b60a2828-aeb1-42ee-d4c8-08caa2ecaa9d"
      },
      "source": [
        "#check all outliers identified\n",
        "outliers=data_copy[data_copy['Age']>60]\n",
        "outliers"
      ],
      "execution_count": null,
      "outputs": [
        {
          "output_type": "execute_result",
          "data": {
            "text/html": [
              "<div>\n",
              "<style scoped>\n",
              "    .dataframe tbody tr th:only-of-type {\n",
              "        vertical-align: middle;\n",
              "    }\n",
              "\n",
              "    .dataframe tbody tr th {\n",
              "        vertical-align: top;\n",
              "    }\n",
              "\n",
              "    .dataframe thead th {\n",
              "        text-align: right;\n",
              "    }\n",
              "</style>\n",
              "<table border=\"1\" class=\"dataframe\">\n",
              "  <thead>\n",
              "    <tr style=\"text-align: right;\">\n",
              "      <th></th>\n",
              "      <th>RowNumber</th>\n",
              "      <th>CustomerId</th>\n",
              "      <th>Surname</th>\n",
              "      <th>CreditScore</th>\n",
              "      <th>Geography</th>\n",
              "      <th>Gender</th>\n",
              "      <th>Age</th>\n",
              "      <th>Tenure</th>\n",
              "      <th>Balance</th>\n",
              "      <th>NumOfProducts</th>\n",
              "      <th>HasCrCard</th>\n",
              "      <th>IsActiveMember</th>\n",
              "      <th>EstimatedSalary</th>\n",
              "      <th>Exited</th>\n",
              "    </tr>\n",
              "  </thead>\n",
              "  <tbody>\n",
              "    <tr>\n",
              "      <th>42</th>\n",
              "      <td>43</td>\n",
              "      <td>15687946</td>\n",
              "      <td>Osborne</td>\n",
              "      <td>556</td>\n",
              "      <td>France</td>\n",
              "      <td>Female</td>\n",
              "      <td>61</td>\n",
              "      <td>2</td>\n",
              "      <td>117419.35</td>\n",
              "      <td>1</td>\n",
              "      <td>1</td>\n",
              "      <td>1</td>\n",
              "      <td>94153.83</td>\n",
              "      <td>0</td>\n",
              "    </tr>\n",
              "    <tr>\n",
              "      <th>44</th>\n",
              "      <td>45</td>\n",
              "      <td>15684171</td>\n",
              "      <td>Bianchi</td>\n",
              "      <td>660</td>\n",
              "      <td>Spain</td>\n",
              "      <td>Female</td>\n",
              "      <td>61</td>\n",
              "      <td>5</td>\n",
              "      <td>155931.11</td>\n",
              "      <td>1</td>\n",
              "      <td>1</td>\n",
              "      <td>1</td>\n",
              "      <td>158338.39</td>\n",
              "      <td>0</td>\n",
              "    </tr>\n",
              "    <tr>\n",
              "      <th>58</th>\n",
              "      <td>59</td>\n",
              "      <td>15623944</td>\n",
              "      <td>T'ien</td>\n",
              "      <td>511</td>\n",
              "      <td>Spain</td>\n",
              "      <td>Female</td>\n",
              "      <td>66</td>\n",
              "      <td>4</td>\n",
              "      <td>0.00</td>\n",
              "      <td>1</td>\n",
              "      <td>1</td>\n",
              "      <td>0</td>\n",
              "      <td>1643.11</td>\n",
              "      <td>1</td>\n",
              "    </tr>\n",
              "    <tr>\n",
              "      <th>85</th>\n",
              "      <td>86</td>\n",
              "      <td>15805254</td>\n",
              "      <td>Ndukaku</td>\n",
              "      <td>652</td>\n",
              "      <td>Spain</td>\n",
              "      <td>Female</td>\n",
              "      <td>75</td>\n",
              "      <td>10</td>\n",
              "      <td>0.00</td>\n",
              "      <td>2</td>\n",
              "      <td>1</td>\n",
              "      <td>1</td>\n",
              "      <td>114675.75</td>\n",
              "      <td>0</td>\n",
              "    </tr>\n",
              "    <tr>\n",
              "      <th>104</th>\n",
              "      <td>105</td>\n",
              "      <td>15804919</td>\n",
              "      <td>Dunbabin</td>\n",
              "      <td>670</td>\n",
              "      <td>Spain</td>\n",
              "      <td>Female</td>\n",
              "      <td>65</td>\n",
              "      <td>1</td>\n",
              "      <td>0.00</td>\n",
              "      <td>1</td>\n",
              "      <td>1</td>\n",
              "      <td>1</td>\n",
              "      <td>177655.68</td>\n",
              "      <td>1</td>\n",
              "    </tr>\n",
              "    <tr>\n",
              "      <th>...</th>\n",
              "      <td>...</td>\n",
              "      <td>...</td>\n",
              "      <td>...</td>\n",
              "      <td>...</td>\n",
              "      <td>...</td>\n",
              "      <td>...</td>\n",
              "      <td>...</td>\n",
              "      <td>...</td>\n",
              "      <td>...</td>\n",
              "      <td>...</td>\n",
              "      <td>...</td>\n",
              "      <td>...</td>\n",
              "      <td>...</td>\n",
              "      <td>...</td>\n",
              "    </tr>\n",
              "    <tr>\n",
              "      <th>9832</th>\n",
              "      <td>9833</td>\n",
              "      <td>15814690</td>\n",
              "      <td>Chukwujekwu</td>\n",
              "      <td>595</td>\n",
              "      <td>Germany</td>\n",
              "      <td>Female</td>\n",
              "      <td>64</td>\n",
              "      <td>2</td>\n",
              "      <td>105736.32</td>\n",
              "      <td>1</td>\n",
              "      <td>1</td>\n",
              "      <td>1</td>\n",
              "      <td>89935.73</td>\n",
              "      <td>1</td>\n",
              "    </tr>\n",
              "    <tr>\n",
              "      <th>9879</th>\n",
              "      <td>9880</td>\n",
              "      <td>15669414</td>\n",
              "      <td>Pisano</td>\n",
              "      <td>486</td>\n",
              "      <td>Germany</td>\n",
              "      <td>Male</td>\n",
              "      <td>62</td>\n",
              "      <td>9</td>\n",
              "      <td>118356.89</td>\n",
              "      <td>2</td>\n",
              "      <td>1</td>\n",
              "      <td>0</td>\n",
              "      <td>168034.83</td>\n",
              "      <td>1</td>\n",
              "    </tr>\n",
              "    <tr>\n",
              "      <th>9894</th>\n",
              "      <td>9895</td>\n",
              "      <td>15704795</td>\n",
              "      <td>Vagin</td>\n",
              "      <td>521</td>\n",
              "      <td>France</td>\n",
              "      <td>Female</td>\n",
              "      <td>77</td>\n",
              "      <td>6</td>\n",
              "      <td>0.00</td>\n",
              "      <td>2</td>\n",
              "      <td>1</td>\n",
              "      <td>1</td>\n",
              "      <td>49054.10</td>\n",
              "      <td>0</td>\n",
              "    </tr>\n",
              "    <tr>\n",
              "      <th>9897</th>\n",
              "      <td>9898</td>\n",
              "      <td>15810563</td>\n",
              "      <td>Ho</td>\n",
              "      <td>678</td>\n",
              "      <td>Spain</td>\n",
              "      <td>Female</td>\n",
              "      <td>61</td>\n",
              "      <td>8</td>\n",
              "      <td>0.00</td>\n",
              "      <td>2</td>\n",
              "      <td>1</td>\n",
              "      <td>1</td>\n",
              "      <td>159938.82</td>\n",
              "      <td>0</td>\n",
              "    </tr>\n",
              "    <tr>\n",
              "      <th>9936</th>\n",
              "      <td>9937</td>\n",
              "      <td>15653037</td>\n",
              "      <td>Parks</td>\n",
              "      <td>609</td>\n",
              "      <td>France</td>\n",
              "      <td>Male</td>\n",
              "      <td>77</td>\n",
              "      <td>1</td>\n",
              "      <td>0.00</td>\n",
              "      <td>1</td>\n",
              "      <td>0</td>\n",
              "      <td>1</td>\n",
              "      <td>18708.76</td>\n",
              "      <td>0</td>\n",
              "    </tr>\n",
              "  </tbody>\n",
              "</table>\n",
              "<p>464 rows × 14 columns</p>\n",
              "</div>"
            ],
            "text/plain": [
              "      RowNumber  CustomerId  ... EstimatedSalary  Exited\n",
              "42           43    15687946  ...        94153.83       0\n",
              "44           45    15684171  ...       158338.39       0\n",
              "58           59    15623944  ...         1643.11       1\n",
              "85           86    15805254  ...       114675.75       0\n",
              "104         105    15804919  ...       177655.68       1\n",
              "...         ...         ...  ...             ...     ...\n",
              "9832       9833    15814690  ...        89935.73       1\n",
              "9879       9880    15669414  ...       168034.83       1\n",
              "9894       9895    15704795  ...        49054.10       0\n",
              "9897       9898    15810563  ...       159938.82       0\n",
              "9936       9937    15653037  ...        18708.76       0\n",
              "\n",
              "[464 rows x 14 columns]"
            ]
          },
          "metadata": {
            "tags": []
          },
          "execution_count": 78
        }
      ]
    },
    {
      "cell_type": "code",
      "metadata": {
        "id": "WygG3Yk2U-Rj"
      },
      "source": [
        ""
      ],
      "execution_count": null,
      "outputs": []
    },
    {
      "cell_type": "markdown",
      "metadata": {
        "id": "jU_rgTyVXRZL"
      },
      "source": [
        "The resume of EDA of our dataset:\n",
        "* there are not any missing values in our dataset\n",
        "* I can say that there are several type of variables in our dataset, like objects,integers and float.\n",
        "* there is no correlation between the attributes\n",
        "*when i check our target variable, i get an insight that seems most of customres do not churn\n",
        "*when i checked the attribute Age, i can say that i get some outliers\n",
        "*After checking the estimated salary of customers, i get an insight that seems to be a normal distribution."
      ]
    },
    {
      "cell_type": "code",
      "metadata": {
        "colab": {
          "base_uri": "https://localhost:8080/"
        },
        "id": "Mpj_XviXPUgT",
        "outputId": "d792288a-cdd3-4d36-b0f0-f7415983bc59"
      },
      "source": [
        "data_copy['Geography'].value_counts()"
      ],
      "execution_count": null,
      "outputs": [
        {
          "output_type": "execute_result",
          "data": {
            "text/plain": [
              "France     5014\n",
              "Germany    2509\n",
              "Spain      2477\n",
              "Name: Geography, dtype: int64"
            ]
          },
          "metadata": {
            "tags": []
          },
          "execution_count": 79
        }
      ]
    },
    {
      "cell_type": "code",
      "metadata": {
        "id": "Npic2p35CABs"
      },
      "source": [
        "Data preprocessing"
      ],
      "execution_count": null,
      "outputs": []
    },
    {
      "cell_type": "markdown",
      "metadata": {
        "id": "NL7L4KHO2Ey6"
      },
      "source": [
        "Data Preprocessing..\n",
        "\n",
        "we can see there are several features for each record that are non-numeric. Typically, learning algorithms expect input to be numeric, which requires that non-numeric features (called categorical variables) be converted. One popular way to convert categorical variables is by using the one-hot encoding scheme. One-hot encoding creates a \"dummy\" variable for each possible category of each non-numeric feature."
      ]
    },
    {
      "cell_type": "code",
      "metadata": {
        "id": "Rb93qaeaB_bc"
      },
      "source": [
        "#Encoding categorical feature\n",
        "data_copy['Gender']=data_copy['Gender'].replace('Female', 0)\n",
        "data_copy['Gender']=data_copy['Gender'].replace('Male', 1)"
      ],
      "execution_count": null,
      "outputs": []
    },
    {
      "cell_type": "code",
      "metadata": {
        "id": "bsyvn0u9fVY0"
      },
      "source": [
        "onehot= OneHotEncoder(sparse=False)\n",
        "data_copy['Geography']= onehot.fit_transform(data_copy[[\"Geography\"]])"
      ],
      "execution_count": null,
      "outputs": []
    },
    {
      "cell_type": "code",
      "metadata": {
        "id": "ht3v_5ufxo4W"
      },
      "source": [
        "#from sklearn.compose import make_column_transformer\n",
        "#make_col= make_column_transformer( (OneHotEncoder(), ['Gender', 'Geography']), remainder='passthrough')"
      ],
      "execution_count": null,
      "outputs": []
    },
    {
      "cell_type": "code",
      "metadata": {
        "id": "z30897q5zdR7"
      },
      "source": [
        "#data_copy= make_col.fit_transform(data_copy)"
      ],
      "execution_count": null,
      "outputs": []
    },
    {
      "cell_type": "code",
      "metadata": {
        "colab": {
          "base_uri": "https://localhost:8080/",
          "height": 379
        },
        "id": "GGnEzlLnoQ9q",
        "outputId": "549779a1-b0db-4876-d04c-8aca8e087859"
      },
      "source": [
        "data_copy.tail(10)"
      ],
      "execution_count": null,
      "outputs": [
        {
          "output_type": "execute_result",
          "data": {
            "text/html": [
              "<div>\n",
              "<style scoped>\n",
              "    .dataframe tbody tr th:only-of-type {\n",
              "        vertical-align: middle;\n",
              "    }\n",
              "\n",
              "    .dataframe tbody tr th {\n",
              "        vertical-align: top;\n",
              "    }\n",
              "\n",
              "    .dataframe thead th {\n",
              "        text-align: right;\n",
              "    }\n",
              "</style>\n",
              "<table border=\"1\" class=\"dataframe\">\n",
              "  <thead>\n",
              "    <tr style=\"text-align: right;\">\n",
              "      <th></th>\n",
              "      <th>RowNumber</th>\n",
              "      <th>CustomerId</th>\n",
              "      <th>Surname</th>\n",
              "      <th>CreditScore</th>\n",
              "      <th>Geography</th>\n",
              "      <th>Gender</th>\n",
              "      <th>Age</th>\n",
              "      <th>Tenure</th>\n",
              "      <th>Balance</th>\n",
              "      <th>NumOfProducts</th>\n",
              "      <th>HasCrCard</th>\n",
              "      <th>IsActiveMember</th>\n",
              "      <th>EstimatedSalary</th>\n",
              "      <th>Exited</th>\n",
              "    </tr>\n",
              "  </thead>\n",
              "  <tbody>\n",
              "    <tr>\n",
              "      <th>9990</th>\n",
              "      <td>9991</td>\n",
              "      <td>15798964</td>\n",
              "      <td>Nkemakonam</td>\n",
              "      <td>714</td>\n",
              "      <td>0.0</td>\n",
              "      <td>1</td>\n",
              "      <td>33</td>\n",
              "      <td>3</td>\n",
              "      <td>35016.60</td>\n",
              "      <td>1</td>\n",
              "      <td>1</td>\n",
              "      <td>0</td>\n",
              "      <td>53667.08</td>\n",
              "      <td>0</td>\n",
              "    </tr>\n",
              "    <tr>\n",
              "      <th>9991</th>\n",
              "      <td>9992</td>\n",
              "      <td>15769959</td>\n",
              "      <td>Ajuluchukwu</td>\n",
              "      <td>597</td>\n",
              "      <td>1.0</td>\n",
              "      <td>0</td>\n",
              "      <td>53</td>\n",
              "      <td>4</td>\n",
              "      <td>88381.21</td>\n",
              "      <td>1</td>\n",
              "      <td>1</td>\n",
              "      <td>0</td>\n",
              "      <td>69384.71</td>\n",
              "      <td>1</td>\n",
              "    </tr>\n",
              "    <tr>\n",
              "      <th>9992</th>\n",
              "      <td>9993</td>\n",
              "      <td>15657105</td>\n",
              "      <td>Chukwualuka</td>\n",
              "      <td>726</td>\n",
              "      <td>0.0</td>\n",
              "      <td>1</td>\n",
              "      <td>36</td>\n",
              "      <td>2</td>\n",
              "      <td>0.00</td>\n",
              "      <td>1</td>\n",
              "      <td>1</td>\n",
              "      <td>0</td>\n",
              "      <td>195192.40</td>\n",
              "      <td>0</td>\n",
              "    </tr>\n",
              "    <tr>\n",
              "      <th>9993</th>\n",
              "      <td>9994</td>\n",
              "      <td>15569266</td>\n",
              "      <td>Rahman</td>\n",
              "      <td>644</td>\n",
              "      <td>1.0</td>\n",
              "      <td>1</td>\n",
              "      <td>28</td>\n",
              "      <td>7</td>\n",
              "      <td>155060.41</td>\n",
              "      <td>1</td>\n",
              "      <td>1</td>\n",
              "      <td>0</td>\n",
              "      <td>29179.52</td>\n",
              "      <td>0</td>\n",
              "    </tr>\n",
              "    <tr>\n",
              "      <th>9994</th>\n",
              "      <td>9995</td>\n",
              "      <td>15719294</td>\n",
              "      <td>Wood</td>\n",
              "      <td>800</td>\n",
              "      <td>1.0</td>\n",
              "      <td>0</td>\n",
              "      <td>29</td>\n",
              "      <td>2</td>\n",
              "      <td>0.00</td>\n",
              "      <td>2</td>\n",
              "      <td>0</td>\n",
              "      <td>0</td>\n",
              "      <td>167773.55</td>\n",
              "      <td>0</td>\n",
              "    </tr>\n",
              "    <tr>\n",
              "      <th>9995</th>\n",
              "      <td>9996</td>\n",
              "      <td>15606229</td>\n",
              "      <td>Obijiaku</td>\n",
              "      <td>771</td>\n",
              "      <td>1.0</td>\n",
              "      <td>1</td>\n",
              "      <td>39</td>\n",
              "      <td>5</td>\n",
              "      <td>0.00</td>\n",
              "      <td>2</td>\n",
              "      <td>1</td>\n",
              "      <td>0</td>\n",
              "      <td>96270.64</td>\n",
              "      <td>0</td>\n",
              "    </tr>\n",
              "    <tr>\n",
              "      <th>9996</th>\n",
              "      <td>9997</td>\n",
              "      <td>15569892</td>\n",
              "      <td>Johnstone</td>\n",
              "      <td>516</td>\n",
              "      <td>1.0</td>\n",
              "      <td>1</td>\n",
              "      <td>35</td>\n",
              "      <td>10</td>\n",
              "      <td>57369.61</td>\n",
              "      <td>1</td>\n",
              "      <td>1</td>\n",
              "      <td>1</td>\n",
              "      <td>101699.77</td>\n",
              "      <td>0</td>\n",
              "    </tr>\n",
              "    <tr>\n",
              "      <th>9997</th>\n",
              "      <td>9998</td>\n",
              "      <td>15584532</td>\n",
              "      <td>Liu</td>\n",
              "      <td>709</td>\n",
              "      <td>1.0</td>\n",
              "      <td>0</td>\n",
              "      <td>36</td>\n",
              "      <td>7</td>\n",
              "      <td>0.00</td>\n",
              "      <td>1</td>\n",
              "      <td>0</td>\n",
              "      <td>1</td>\n",
              "      <td>42085.58</td>\n",
              "      <td>1</td>\n",
              "    </tr>\n",
              "    <tr>\n",
              "      <th>9998</th>\n",
              "      <td>9999</td>\n",
              "      <td>15682355</td>\n",
              "      <td>Sabbatini</td>\n",
              "      <td>772</td>\n",
              "      <td>0.0</td>\n",
              "      <td>1</td>\n",
              "      <td>42</td>\n",
              "      <td>3</td>\n",
              "      <td>75075.31</td>\n",
              "      <td>2</td>\n",
              "      <td>1</td>\n",
              "      <td>0</td>\n",
              "      <td>92888.52</td>\n",
              "      <td>1</td>\n",
              "    </tr>\n",
              "    <tr>\n",
              "      <th>9999</th>\n",
              "      <td>10000</td>\n",
              "      <td>15628319</td>\n",
              "      <td>Walker</td>\n",
              "      <td>792</td>\n",
              "      <td>1.0</td>\n",
              "      <td>0</td>\n",
              "      <td>28</td>\n",
              "      <td>4</td>\n",
              "      <td>130142.79</td>\n",
              "      <td>1</td>\n",
              "      <td>1</td>\n",
              "      <td>0</td>\n",
              "      <td>38190.78</td>\n",
              "      <td>0</td>\n",
              "    </tr>\n",
              "  </tbody>\n",
              "</table>\n",
              "</div>"
            ],
            "text/plain": [
              "      RowNumber  CustomerId  ... EstimatedSalary  Exited\n",
              "9990       9991    15798964  ...        53667.08       0\n",
              "9991       9992    15769959  ...        69384.71       1\n",
              "9992       9993    15657105  ...       195192.40       0\n",
              "9993       9994    15569266  ...        29179.52       0\n",
              "9994       9995    15719294  ...       167773.55       0\n",
              "9995       9996    15606229  ...        96270.64       0\n",
              "9996       9997    15569892  ...       101699.77       0\n",
              "9997       9998    15584532  ...        42085.58       1\n",
              "9998       9999    15682355  ...        92888.52       1\n",
              "9999      10000    15628319  ...        38190.78       0\n",
              "\n",
              "[10 rows x 14 columns]"
            ]
          },
          "metadata": {
            "tags": []
          },
          "execution_count": 82
        }
      ]
    },
    {
      "cell_type": "code",
      "metadata": {
        "id": "NpPFQMAFLRuI"
      },
      "source": [
        "#create the input x and the target y\n",
        "x=data_copy.drop(['CustomerId','Surname', 'RowNumber', 'Exited'], axis= 1).values\n",
        "y=data_copy['Exited'].values"
      ],
      "execution_count": null,
      "outputs": []
    },
    {
      "cell_type": "markdown",
      "metadata": {
        "id": "HyGKbJtoT0IG"
      },
      "source": [
        "Let's split the dataset into training and testing set"
      ]
    },
    {
      "cell_type": "code",
      "metadata": {
        "id": "qgcoFSnHwnFI"
      },
      "source": [
        "from sklearn.model_selection import train_test_split\n",
        "X_train,X_test, Y_train,Y_test= train_test_split(x,y, test_size=0.2, random_state=40)"
      ],
      "execution_count": null,
      "outputs": []
    },
    {
      "cell_type": "code",
      "metadata": {
        "colab": {
          "base_uri": "https://localhost:8080/"
        },
        "id": "pKQzQLvyWx3J",
        "outputId": "bc7407d0-1071-4e7b-edc3-0e4f02905b30"
      },
      "source": [
        "#Let's see the splitting fo the dataset\n",
        "X_train.shape,"
      ],
      "execution_count": null,
      "outputs": [
        {
          "output_type": "execute_result",
          "data": {
            "text/plain": [
              "((8000, 10),)"
            ]
          },
          "metadata": {
            "tags": []
          },
          "execution_count": 86
        }
      ]
    },
    {
      "cell_type": "code",
      "metadata": {
        "colab": {
          "base_uri": "https://localhost:8080/"
        },
        "id": "U6_GlJG0XXoy",
        "outputId": "030aee98-00f8-4a22-a738-6aa02f539299"
      },
      "source": [
        "X_test.shape"
      ],
      "execution_count": null,
      "outputs": [
        {
          "output_type": "execute_result",
          "data": {
            "text/plain": [
              "(2000, 10)"
            ]
          },
          "metadata": {
            "tags": []
          },
          "execution_count": 87
        }
      ]
    },
    {
      "cell_type": "markdown",
      "metadata": {
        "id": "7AuXunnKZMF-"
      },
      "source": [
        "Perform feature scaling on the training set"
      ]
    },
    {
      "cell_type": "code",
      "metadata": {
        "id": "Mt1iZgklXqcY"
      },
      "source": [
        "standard= StandardScaler()\n",
        "X_train= standard.fit_transform(X_train)"
      ],
      "execution_count": null,
      "outputs": []
    },
    {
      "cell_type": "code",
      "metadata": {
        "id": "g6xDDq5edi1C"
      },
      "source": [
        "X_test= standard.transform(X_test)"
      ],
      "execution_count": null,
      "outputs": []
    },
    {
      "cell_type": "code",
      "metadata": {
        "colab": {
          "base_uri": "https://localhost:8080/"
        },
        "id": "2BHbvUtdeGjw",
        "outputId": "ae6f3985-38af-42dd-e6f4-51f13f0bdaa7"
      },
      "source": [
        "print(X_train)"
      ],
      "execution_count": null,
      "outputs": [
        {
          "output_type": "stream",
          "text": [
            "[[ 0.23032791 -1.00601811 -1.09003844 ... -1.55337352  0.97067965\n",
            "  -0.70848497]\n",
            " [ 0.54015481  0.99401789  0.91739884 ...  0.64376017 -1.030206\n",
            "  -1.38762036]\n",
            " [ 0.46786187 -1.00601811  0.91739884 ... -1.55337352  0.97067965\n",
            "  -0.83538323]\n",
            " ...\n",
            " [ 0.70539583 -1.00601811 -1.09003844 ...  0.64376017 -1.030206\n",
            "  -1.3983009 ]\n",
            " [-0.15179195 -1.00601811 -1.09003844 ...  0.64376017 -1.030206\n",
            "  -0.99538194]\n",
            " [ 0.45753431 -1.00601811 -1.09003844 ... -1.55337352  0.97067965\n",
            "  -1.5031824 ]]\n"
          ],
          "name": "stdout"
        }
      ]
    },
    {
      "cell_type": "code",
      "metadata": {
        "id": "nMiRzUbhani4"
      },
      "source": [
        "#Create a list of columns needs apply standard scaler on\n",
        "columns=['CreditScore', 'Balance','EstimatedSalary']\n",
        "#X_train['columns']= standard.fit_transform(X_train['columns'])"
      ],
      "execution_count": null,
      "outputs": []
    },
    {
      "cell_type": "markdown",
      "metadata": {
        "id": "gY6NHfISggB3"
      },
      "source": [
        "*Model* Training.\n",
        "\n",
        "Logistic Regression,\n",
        "\n",
        "it is a machine learning algorithm for classification task,it is a linear model."
      ]
    },
    {
      "cell_type": "code",
      "metadata": {
        "colab": {
          "base_uri": "https://localhost:8080/"
        },
        "id": "r1u0Ge4Qgta2",
        "outputId": "1c86d036-6296-43d3-a63f-0336efbaf420"
      },
      "source": [
        "#Fitting logistic Regression to the training set\n",
        "logmodel= LogisticRegression(random_state= 40)\n",
        "logmodel.fit(X_train, Y_train)\n"
      ],
      "execution_count": null,
      "outputs": [
        {
          "output_type": "execute_result",
          "data": {
            "text/plain": [
              "LogisticRegression(C=1.0, class_weight=None, dual=False, fit_intercept=True,\n",
              "                   intercept_scaling=1, l1_ratio=None, max_iter=100,\n",
              "                   multi_class='auto', n_jobs=None, penalty='l2',\n",
              "                   random_state=40, solver='lbfgs', tol=0.0001, verbose=0,\n",
              "                   warm_start=False)"
            ]
          },
          "metadata": {
            "tags": []
          },
          "execution_count": 91
        }
      ]
    },
    {
      "cell_type": "markdown",
      "metadata": {
        "id": "onyf3u3SUpO4"
      },
      "source": [
        "Random Forest Classifier..\n",
        "\n",
        "Random Forest is an ensemble classifier  which uses many decision tree models to predict the result.it can be use for classification task and regression.Random forests are strong modeling technique and much more robust."
      ]
    },
    {
      "cell_type": "code",
      "metadata": {
        "colab": {
          "base_uri": "https://localhost:8080/"
        },
        "id": "eL65k63AUkmo",
        "outputId": "f6c5a391-07ff-4a0f-e616-0489eebdb495"
      },
      "source": [
        "#Fitting random forest to the training set\n",
        "rfc= RandomForestClassifier(n_estimators=200)\n",
        "rfc.fit(X_train,Y_train)"
      ],
      "execution_count": null,
      "outputs": [
        {
          "output_type": "execute_result",
          "data": {
            "text/plain": [
              "RandomForestClassifier(bootstrap=True, ccp_alpha=0.0, class_weight=None,\n",
              "                       criterion='gini', max_depth=None, max_features='auto',\n",
              "                       max_leaf_nodes=None, max_samples=None,\n",
              "                       min_impurity_decrease=0.0, min_impurity_split=None,\n",
              "                       min_samples_leaf=1, min_samples_split=2,\n",
              "                       min_weight_fraction_leaf=0.0, n_estimators=200,\n",
              "                       n_jobs=None, oob_score=False, random_state=None,\n",
              "                       verbose=0, warm_start=False)"
            ]
          },
          "metadata": {
            "tags": []
          },
          "execution_count": 92
        }
      ]
    },
    {
      "cell_type": "code",
      "metadata": {
        "id": "u54SLYxdcrbw"
      },
      "source": [
        ""
      ],
      "execution_count": null,
      "outputs": []
    },
    {
      "cell_type": "markdown",
      "metadata": {
        "id": "IRlpj0XKctUZ"
      },
      "source": [
        "Training the XGBoost model  using GridSearchCV hyperparamter tuning"
      ]
    },
    {
      "cell_type": "markdown",
      "metadata": {
        "id": "EAZ50ucZXZdS"
      },
      "source": [
        "XGBClassifier..\n"
      ]
    },
    {
      "cell_type": "code",
      "metadata": {
        "id": "Jm-rJVM9vkfs"
      },
      "source": [
        "#Define the list of parameters for the model\n",
        "n_estimators= [50,100,200,]\n",
        "max_depth= [2,4,6,]\n",
        "learning_rate= [0.001, 0.01, 0.1]"
      ],
      "execution_count": null,
      "outputs": []
    },
    {
      "cell_type": "code",
      "metadata": {
        "id": "xUesC2WtXmUU"
      },
      "source": [
        "xgb= XGBClassifier()\n",
        "param_grid=dict( n_estimators= n_estimators, max_depth= max_depth, learning_rate= learning_rate)\n"
      ],
      "execution_count": null,
      "outputs": []
    },
    {
      "cell_type": "code",
      "metadata": {
        "id": "gdUYlSkYwSlD"
      },
      "source": [
        "kfold= StratifiedKFold(n_splits= 10,shuffle= True, random_state=40)\n",
        "gridsearch= GridSearchCV(xgb,param_grid,scoring=\"neg_log_loss\", n_jobs= -1, cv=kfold)"
      ],
      "execution_count": null,
      "outputs": []
    },
    {
      "cell_type": "code",
      "metadata": {
        "id": "CxLqnqS4x_74"
      },
      "source": [
        "result= gridsearch.fit(X_train,Y_train)"
      ],
      "execution_count": null,
      "outputs": []
    },
    {
      "cell_type": "code",
      "metadata": {
        "colab": {
          "base_uri": "https://localhost:8080/"
        },
        "id": "VxnqLPwLd2t0",
        "outputId": "02763799-4a1b-417f-ccc3-ee5ce13af8b9"
      },
      "source": [
        "print (result.best_params_)"
      ],
      "execution_count": null,
      "outputs": [
        {
          "output_type": "stream",
          "text": [
            "{'learning_rate': 0.1, 'max_depth': 4, 'n_estimators': 100}\n"
          ],
          "name": "stdout"
        }
      ]
    },
    {
      "cell_type": "markdown",
      "metadata": {
        "id": "GzzHdD0-vtK8"
      },
      "source": [
        "LGBMclassifier.."
      ]
    },
    {
      "cell_type": "code",
      "metadata": {
        "colab": {
          "base_uri": "https://localhost:8080/"
        },
        "id": "r0lTpUIWv_a2",
        "outputId": "9f4fee3e-51d2-4b9e-b772-a31c7a3c0c08"
      },
      "source": [
        "#Fitting LGBMclassifier to the training set\n",
        "lgb= LGBMClassifier(n_estimators=200)\n",
        "lgb.fit(X_train,Y_train)"
      ],
      "execution_count": null,
      "outputs": [
        {
          "output_type": "execute_result",
          "data": {
            "text/plain": [
              "LGBMClassifier(boosting_type='gbdt', class_weight=None, colsample_bytree=1.0,\n",
              "               importance_type='split', learning_rate=0.1, max_depth=-1,\n",
              "               min_child_samples=20, min_child_weight=0.001, min_split_gain=0.0,\n",
              "               n_estimators=200, n_jobs=-1, num_leaves=31, objective=None,\n",
              "               random_state=None, reg_alpha=0.0, reg_lambda=0.0, silent=True,\n",
              "               subsample=1.0, subsample_for_bin=200000, subsample_freq=0)"
            ]
          },
          "metadata": {
            "tags": []
          },
          "execution_count": 98
        }
      ]
    },
    {
      "cell_type": "markdown",
      "metadata": {
        "id": "z9LN9ZQSyEMu"
      },
      "source": [
        "Naive Bayes..\n",
        "\n",
        "\n",
        "It is a classification technique based on Bayes Theorem with an assumption of independence among predictors"
      ]
    },
    {
      "cell_type": "code",
      "metadata": {
        "colab": {
          "base_uri": "https://localhost:8080/"
        },
        "id": "Ue0mYXiRy2ur",
        "outputId": "e10a6bf8-b8b6-4d30-a8ce-8607fed85a5a"
      },
      "source": [
        "#Fitting Naive to the training set\n",
        "naive= GaussianNB()\n",
        "naive.fit(X_train,Y_train)"
      ],
      "execution_count": null,
      "outputs": [
        {
          "output_type": "execute_result",
          "data": {
            "text/plain": [
              "GaussianNB(priors=None, var_smoothing=1e-09)"
            ]
          },
          "metadata": {
            "tags": []
          },
          "execution_count": 99
        }
      ]
    },
    {
      "cell_type": "markdown",
      "metadata": {
        "id": "59d72r5Bu6uL"
      },
      "source": [
        "Decision Tree.."
      ]
    },
    {
      "cell_type": "code",
      "metadata": {
        "colab": {
          "base_uri": "https://localhost:8080/"
        },
        "id": "WWryat0du5VK",
        "outputId": "45a6267c-9e60-4ba8-d4be-827b602c4207"
      },
      "source": [
        "#Fitting Decision Tree to the training set\n",
        "decision= DecisionTreeClassifier(random_state=40, max_depth=3)\n",
        "decision.fit(X_train, Y_train)"
      ],
      "execution_count": null,
      "outputs": [
        {
          "output_type": "execute_result",
          "data": {
            "text/plain": [
              "DecisionTreeClassifier(ccp_alpha=0.0, class_weight=None, criterion='gini',\n",
              "                       max_depth=3, max_features=None, max_leaf_nodes=None,\n",
              "                       min_impurity_decrease=0.0, min_impurity_split=None,\n",
              "                       min_samples_leaf=1, min_samples_split=2,\n",
              "                       min_weight_fraction_leaf=0.0, presort='deprecated',\n",
              "                       random_state=40, splitter='best')"
            ]
          },
          "metadata": {
            "tags": []
          },
          "execution_count": 100
        }
      ]
    },
    {
      "cell_type": "markdown",
      "metadata": {
        "id": "7pKAiZNOzcle"
      },
      "source": [
        "Predicting the Test set results for models\n",
        "\n",
        "---\n",
        "\n"
      ]
    },
    {
      "cell_type": "code",
      "metadata": {
        "colab": {
          "base_uri": "https://localhost:8080/"
        },
        "id": "lDhj0_OeR04N",
        "outputId": "fb881632-e4ae-402c-c31c-fef914b715d7"
      },
      "source": [
        "#predicting the test set \n",
        "y_pred= logmodel.predict(X_test)\n",
        "y_pred"
      ],
      "execution_count": null,
      "outputs": [
        {
          "output_type": "execute_result",
          "data": {
            "text/plain": [
              "array([0, 0, 0, ..., 0, 0, 0])"
            ]
          },
          "metadata": {
            "tags": []
          },
          "execution_count": 101
        }
      ]
    },
    {
      "cell_type": "code",
      "metadata": {
        "colab": {
          "base_uri": "https://localhost:8080/"
        },
        "id": "dO9saXoM7y1a",
        "outputId": "c92a9606-1a19-4675-9d62-8754a6e4a7ad"
      },
      "source": [
        "#predicting the test set\n",
        "y_pred_1= rfc.predict(X_test)\n",
        "y_pred_1"
      ],
      "execution_count": null,
      "outputs": [
        {
          "output_type": "execute_result",
          "data": {
            "text/plain": [
              "array([0, 0, 0, ..., 0, 0, 0])"
            ]
          },
          "metadata": {
            "tags": []
          },
          "execution_count": 102
        }
      ]
    },
    {
      "cell_type": "code",
      "metadata": {
        "colab": {
          "base_uri": "https://localhost:8080/"
        },
        "id": "a-Tvmto-8M_6",
        "outputId": "a4e2713c-afce-4c44-dd08-95754c5fad93"
      },
      "source": [
        "#predicting the test set\n",
        "y_pred_2= lgb.predict(X_test)\n",
        "y_pred_2 "
      ],
      "execution_count": null,
      "outputs": [
        {
          "output_type": "execute_result",
          "data": {
            "text/plain": [
              "array([0, 0, 0, ..., 0, 0, 0])"
            ]
          },
          "metadata": {
            "tags": []
          },
          "execution_count": 103
        }
      ]
    },
    {
      "cell_type": "code",
      "metadata": {
        "colab": {
          "base_uri": "https://localhost:8080/"
        },
        "id": "9rWBjzSe8nn8",
        "outputId": "5b0a3329-7728-4965-9572-549acc71cdbb"
      },
      "source": [
        "#predicting the test set\n",
        "y_pred_3= naive.predict(X_test)\n",
        "y_pred_3"
      ],
      "execution_count": null,
      "outputs": [
        {
          "output_type": "execute_result",
          "data": {
            "text/plain": [
              "array([0, 0, 0, ..., 0, 0, 0])"
            ]
          },
          "metadata": {
            "tags": []
          },
          "execution_count": 104
        }
      ]
    },
    {
      "cell_type": "code",
      "metadata": {
        "colab": {
          "base_uri": "https://localhost:8080/"
        },
        "id": "sStkAAE_9OuU",
        "outputId": "2e71d5e9-ab37-4477-f8c5-b40154d4bba1"
      },
      "source": [
        "#predicting the test set\n",
        "y_pred_4= gridsearch.predict(X_test)\n",
        "y_pred_4"
      ],
      "execution_count": null,
      "outputs": [
        {
          "output_type": "execute_result",
          "data": {
            "text/plain": [
              "array([0, 0, 0, ..., 0, 0, 0])"
            ]
          },
          "metadata": {
            "tags": []
          },
          "execution_count": 106
        }
      ]
    },
    {
      "cell_type": "code",
      "metadata": {
        "colab": {
          "base_uri": "https://localhost:8080/"
        },
        "id": "sF8IIaXrv8Lk",
        "outputId": "f432dc88-21bd-4977-c49e-3095bd87ffa2"
      },
      "source": [
        "#predicting the test set\n",
        "y_pred_decision= decision.predict(X_test)\n",
        "y_pred_decision"
      ],
      "execution_count": null,
      "outputs": [
        {
          "output_type": "execute_result",
          "data": {
            "text/plain": [
              "array([0, 0, 0, ..., 0, 0, 0])"
            ]
          },
          "metadata": {
            "tags": []
          },
          "execution_count": 107
        }
      ]
    },
    {
      "cell_type": "markdown",
      "metadata": {
        "id": "ecur9rSx3RHF"
      },
      "source": [
        "Evaluating Model Performance¶\n",
        "\n",
        "\n",
        "In this section, we will investigate four different algorithms, and determine which is best at modeling the data"
      ]
    },
    {
      "cell_type": "code",
      "metadata": {
        "id": "fl6zyRm5j6TY"
      },
      "source": [
        "#logistic regression\n",
        "accuracy_logi = accuracy_score(Y_test, y_pred )\n",
        "precision_logi= precision_score(Y_test, y_pred )\n",
        "recall_logi = recall_score(Y_test, y_pred )\n",
        "f1_logi = f1_score(Y_test, y_pred )\n"
      ],
      "execution_count": null,
      "outputs": []
    },
    {
      "cell_type": "code",
      "metadata": {
        "colab": {
          "base_uri": "https://localhost:8080/"
        },
        "id": "N3OjgFfFl3CU",
        "outputId": "3e32a5c0-7699-40da-c0ed-4228f13ec963"
      },
      "source": [
        "results_logi = pd.DataFrame([['Logistic Regression', \n",
        "accuracy_logi, precision_logi, recall_logi, f1_logi, ]], columns = ['Model', \n",
        "'Accuracy', 'Precision', 'Recall', 'F1 Score', \n",
        "])\n",
        "results_logi = results_logi.sort_values([\"Precision\", \n",
        "\"Recall\", \"F1 Score\"], ascending = False)\n",
        "print (results_logi)"
      ],
      "execution_count": null,
      "outputs": [
        {
          "output_type": "stream",
          "text": [
            "                 Model  Accuracy  Precision   Recall  F1 Score\n",
            "0  Logistic Regression    0.8215   0.595745  0.21875      0.32\n"
          ],
          "name": "stdout"
        }
      ]
    },
    {
      "cell_type": "code",
      "metadata": {
        "id": "DorGYzSGn61P"
      },
      "source": [
        "#random forest\n",
        "accuracy_random = accuracy_score(Y_test, y_pred_1 )\n",
        "precision_random= precision_score(Y_test, y_pred_1 )\n",
        "recall_random = recall_score(Y_test, y_pred_1 )\n",
        "f1_random = f1_score(Y_test, y_pred_1 )\n",
        "\n"
      ],
      "execution_count": null,
      "outputs": []
    },
    {
      "cell_type": "code",
      "metadata": {
        "colab": {
          "base_uri": "https://localhost:8080/"
        },
        "id": "7ehzN_Psl7_e",
        "outputId": "d8976a9e-6b8e-40f6-c23b-561ca4a28ae7"
      },
      "source": [
        "model_results = pd.DataFrame(\n",
        "[['Random Forest', accuracy_random, precision_random, recall_random, f1_random]],\n",
        "columns = ['Model', 'Accuracy', 'Precision', \n",
        "'Recall', 'F1 Score'])\n",
        "results_logi = results_logi.append(model_results, ignore_index = True)\n",
        "results_logi = results_logi.sort_values([\"Precision\", \n",
        "\"Recall\", \"F1 Score\"], ascending = False)\n",
        "print (results_logi)"
      ],
      "execution_count": null,
      "outputs": [
        {
          "output_type": "stream",
          "text": [
            "                 Model  Accuracy  Precision    Recall  F1 Score\n",
            "1        Random Forest    0.8685   0.737255  0.489583  0.588419\n",
            "0  Logistic Regression    0.8215   0.595745  0.218750  0.320000\n"
          ],
          "name": "stdout"
        }
      ]
    },
    {
      "cell_type": "code",
      "metadata": {
        "id": "NvF8jH36qWaO"
      },
      "source": [
        "#lightgbm\n",
        "accuracy_lgb = accuracy_score(Y_test, y_pred_2 )\n",
        "precision_lgb= precision_score(Y_test, y_pred_2 )\n",
        "recall_lgb = recall_score(Y_test, y_pred_2 )\n",
        "f1_lgb = f1_score(Y_test, y_pred_2 )"
      ],
      "execution_count": null,
      "outputs": []
    },
    {
      "cell_type": "code",
      "metadata": {
        "colab": {
          "base_uri": "https://localhost:8080/"
        },
        "id": "R0o_Yia7rEjG",
        "outputId": "d36584bb-e3fc-44c4-8f63-c9c16dd68e7f"
      },
      "source": [
        "model_results = pd.DataFrame(\n",
        "[['Lightgbm', accuracy_lgb, precision_lgb, recall_lgb, f1_lgb]],\n",
        "columns = ['Model', 'Accuracy', 'Precision', \n",
        "'Recall', 'F1 Score'])\n",
        "results_logi = results_logi.append(model_results, ignore_index = True)\n",
        "results_logi = results_logi.sort_values([\"Precision\", \n",
        "\"Recall\", \"F1 Score\"], ascending = False)\n",
        "print (results_logi)"
      ],
      "execution_count": null,
      "outputs": [
        {
          "output_type": "stream",
          "text": [
            "                 Model  Accuracy  Precision    Recall  F1 Score\n",
            "0        Random Forest    0.8685   0.737255  0.489583  0.588419\n",
            "2             Lightgbm    0.8690   0.724265  0.513021  0.600610\n",
            "1  Logistic Regression    0.8215   0.595745  0.218750  0.320000\n"
          ],
          "name": "stdout"
        }
      ]
    },
    {
      "cell_type": "code",
      "metadata": {
        "id": "GRuzhEX5sNpL"
      },
      "source": [
        "# Naives Bayes\n",
        "accuracy_naive = accuracy_score(Y_test, y_pred_3 )\n",
        "precision_naive= precision_score(Y_test, y_pred_3 )\n",
        "recall_naive = recall_score(Y_test, y_pred_3 )\n",
        "f1_naive = f1_score(Y_test, y_pred_3)"
      ],
      "execution_count": null,
      "outputs": []
    },
    {
      "cell_type": "code",
      "metadata": {
        "colab": {
          "base_uri": "https://localhost:8080/"
        },
        "id": "Lsrun9LDqgYp",
        "outputId": "72e93377-97f7-4ed3-ecef-8059109d2549"
      },
      "source": [
        "model_results = pd.DataFrame(\n",
        "[['Naives Bayes', accuracy_naive, precision_naive, recall_naive, f1_naive]],\n",
        "columns = ['Model', 'Accuracy', 'Precision', \n",
        "'Recall', 'F1 Score'])\n",
        "results_logi = results_logi.append(model_results, ignore_index = True)\n",
        "results_logi = results_logi.sort_values([\"Precision\", \n",
        "\"Recall\", \"F1 Score\"], ascending = False)\n",
        "print (results_logi)"
      ],
      "execution_count": null,
      "outputs": [
        {
          "output_type": "stream",
          "text": [
            "                 Model  Accuracy  Precision    Recall  F1 Score\n",
            "0        Random Forest    0.8685   0.737255  0.489583  0.588419\n",
            "1             Lightgbm    0.8690   0.724265  0.513021  0.600610\n",
            "3         Naives Bayes    0.8360   0.694444  0.260417  0.378788\n",
            "2  Logistic Regression    0.8215   0.595745  0.218750  0.320000\n"
          ],
          "name": "stdout"
        }
      ]
    },
    {
      "cell_type": "code",
      "metadata": {
        "id": "r4nfMwFnxkU3"
      },
      "source": [
        "accuracy_decision = accuracy_score(Y_test, y_pred_decision )\n",
        "precision_decision= precision_score(Y_test, y_pred_decision )\n",
        "recall_decision = recall_score(Y_test, y_pred_decision )\n",
        "f1_decision = f1_score(Y_test, y_pred_decision)"
      ],
      "execution_count": null,
      "outputs": []
    },
    {
      "cell_type": "code",
      "metadata": {
        "colab": {
          "base_uri": "https://localhost:8080/"
        },
        "id": "Ji7YLTYvtKTU",
        "outputId": "d136540d-8012-4370-f42b-361237bdf5dd"
      },
      "source": [
        "model_results = pd.DataFrame(\n",
        "[['Decision Tree', accuracy_decision, precision_decision, recall_decision, f1_decision]],\n",
        "columns = ['Model', 'Accuracy', 'Precision', \n",
        "'Recall', 'F1 Score'])\n",
        "results_logi = results_logi.append(model_results, ignore_index = True)\n",
        "results_logi = results_logi.sort_values([\"Precision\", \n",
        "\"Recall\", \"F1 Score\"], ascending = False)\n",
        "print (results_logi)"
      ],
      "execution_count": null,
      "outputs": [
        {
          "output_type": "stream",
          "text": [
            "                 Model  Accuracy  Precision    Recall  F1 Score\n",
            "4        Decision Tree    0.8470   0.814516  0.263021  0.397638\n",
            "0        Random Forest    0.8685   0.737255  0.489583  0.588419\n",
            "1             Lightgbm    0.8690   0.724265  0.513021  0.600610\n",
            "2         Naives Bayes    0.8360   0.694444  0.260417  0.378788\n",
            "3  Logistic Regression    0.8215   0.595745  0.218750  0.320000\n"
          ],
          "name": "stdout"
        }
      ]
    },
    {
      "cell_type": "markdown",
      "metadata": {
        "id": "BMx2sLK2ZC7T"
      },
      "source": [
        "After evaluating the models performance of several algorithms,we can definitely conclude that lightgbm is an optimal model of choice for the given dataset as it has relatively the highest combination of precision, recall as; giving most number of correct positive predictions while minimizing the false negatives. Hence, let's try to use Lightgbm and evaluate its performance in the forthcoming sections."
      ]
    },
    {
      "cell_type": "markdown",
      "metadata": {
        "id": "Xl_dMUns-HKa"
      },
      "source": [
        "Model Evaluation..\n",
        "\n",
        "\n",
        "Step 16: Train & evaluate Chosen Model: Let’s fit the selected model (Lightgbm in this case) on the training dataset and evaluate the results."
      ]
    },
    {
      "cell_type": "code",
      "metadata": {
        "id": "Y3bwe0UW-eSj",
        "colab": {
          "base_uri": "https://localhost:8080/"
        },
        "outputId": "01f6453c-6a70-4f11-9970-897c3ad8fdbb"
      },
      "source": [
        "lgb= LGBMClassifier(n_estimators= 200)\n",
        "lgb.fit(X_train,Y_train)"
      ],
      "execution_count": null,
      "outputs": [
        {
          "output_type": "execute_result",
          "data": {
            "text/plain": [
              "LGBMClassifier(boosting_type='gbdt', class_weight=None, colsample_bytree=1.0,\n",
              "               importance_type='split', learning_rate=0.1, max_depth=-1,\n",
              "               min_child_samples=20, min_child_weight=0.001, min_split_gain=0.0,\n",
              "               n_estimators=200, n_jobs=-1, num_leaves=31, objective=None,\n",
              "               random_state=None, reg_alpha=0.0, reg_lambda=0.0, silent=True,\n",
              "               subsample=1.0, subsample_for_bin=200000, subsample_freq=0)"
            ]
          },
          "metadata": {
            "tags": []
          },
          "execution_count": 118
        }
      ]
    },
    {
      "cell_type": "code",
      "metadata": {
        "colab": {
          "base_uri": "https://localhost:8080/"
        },
        "id": "FROyiogrd35V",
        "outputId": "7bdce36e-f3dc-4772-fc92-260ae8261c5c"
      },
      "source": [
        "y_pred_2= lgb.predict(X_test)\n",
        "y_pred_2"
      ],
      "execution_count": null,
      "outputs": [
        {
          "output_type": "execute_result",
          "data": {
            "text/plain": [
              "array([0, 0, 0, ..., 0, 0, 0])"
            ]
          },
          "metadata": {
            "tags": []
          },
          "execution_count": 119
        }
      ]
    },
    {
      "cell_type": "code",
      "metadata": {
        "id": "rkTCQfxN-e8Y"
      },
      "source": [
        "#lightgbm\n",
        "accuracy_lgb = accuracy_score(Y_test, y_pred_2 )\n",
        "precision_lgb= precision_score(Y_test, y_pred_2 )\n",
        "recall_lgb = recall_score(Y_test, y_pred_2 )\n",
        "f1_lgb = f1_score(Y_test, y_pred_2 )"
      ],
      "execution_count": null,
      "outputs": []
    },
    {
      "cell_type": "code",
      "metadata": {
        "colab": {
          "base_uri": "https://localhost:8080/"
        },
        "id": "4X9m06ggb3me",
        "outputId": "9b6e96f0-16fc-4b25-8911-5eacb1f76ae0"
      },
      "source": [
        "print('accuracy score for Lightgbm:', accuracy_lgb)\n",
        "print('precision score for Lightgbm:',precision_lgb)\n",
        "print('recall score for Lightgbm:', recall_lgb) "
      ],
      "execution_count": null,
      "outputs": [
        {
          "output_type": "stream",
          "text": [
            "accuracy score for Lightgbm: 0.869\n",
            "precision score for Lightgbm: 0.7242647058823529\n",
            "recall score for Lightgbm: 0.5130208333333334\n"
          ],
          "name": "stdout"
        }
      ]
    },
    {
      "cell_type": "markdown",
      "metadata": {
        "id": "w0zpmI_B-huS"
      },
      "source": [
        "k-Fold Cross-Validation: \n",
        "\n",
        "\n",
        "Model evaluation is most commonly done through ‘K- fold Cross-Validation’ technique that primarily helps us to fix the variance. Variance problem occurs when we get good accuracy while running the model on a training set and a test set but then the accuracy looks different when the model is run on another test set.\n",
        "So, in order to fix the variance problem, k-fold cross-validation basically split the training set into 10 folds and train the model on 9 folds (9 subsets of the training dataset) before testing it on the test fold. This gives us the flexibility to train our model on all ten combinations of 9 folds; giving ample room to finalize the variance.\n"
      ]
    },
    {
      "cell_type": "code",
      "metadata": {
        "colab": {
          "base_uri": "https://localhost:8080/"
        },
        "id": "OkgIDX_feYxW",
        "outputId": "f4688d8b-7ca4-4b8a-f1f7-36811515bf6f"
      },
      "source": [
        "accuracies = cross_val_score(estimator = lgb,\n",
        " X = X_train, y = Y_train, cv = 10)\n",
        "print(\"Lightgbm Classifier average Accuracy:\",accuracies.mean() )\n"
      ],
      "execution_count": null,
      "outputs": [
        {
          "output_type": "stream",
          "text": [
            "Lightgbm Classifier average Accuracy: 0.8462499999999998\n"
          ],
          "name": "stdout"
        }
      ]
    },
    {
      "cell_type": "markdown",
      "metadata": {
        "id": "IZLeLnOKbz7b"
      },
      "source": [
        ""
      ]
    },
    {
      "cell_type": "code",
      "metadata": {
        "colab": {
          "base_uri": "https://localhost:8080/",
          "height": 282
        },
        "id": "Y2iWvFGfb5I_",
        "outputId": "89a93457-33c5-495d-c1d3-2f067cc7e2a2"
      },
      "source": [
        "#the confusion Matrix of the model\n",
        "from sklearn.metrics import  confusion_matrix\n",
        "cm= confusion_matrix(Y_test, y_pred_2)\n",
        "cm\n",
        "sns.heatmap(cm ,annot= True, cbar= True)"
      ],
      "execution_count": null,
      "outputs": [
        {
          "output_type": "execute_result",
          "data": {
            "text/plain": [
              "<matplotlib.axes._subplots.AxesSubplot at 0x7fe9477cf110>"
            ]
          },
          "metadata": {
            "tags": []
          },
          "execution_count": 123
        },
        {
          "output_type": "display_data",
          "data": {
            "image/png": "[encoded data removed]",
            "text/plain": [
              "<Figure size 432x288 with 2 Axes>"
            ]
          },
          "metadata": {
            "tags": [],
            "needs_background": "light"
          }
        }
      ]
    },
    {
      "cell_type": "code",
      "metadata": {
        "colab": {
          "base_uri": "https://localhost:8080/"
        },
        "id": "8VGAE_ZvgDao",
        "outputId": "87221510-5f17-4473-9f1d-b61d736e2d6b"
      },
      "source": [
        "#predicting the probability of churn for each customer\n",
        "probs = lgb.predict_proba(X_test) \n",
        "probs = probs[:, 1]\n",
        "print(probs)"
      ],
      "execution_count": null,
      "outputs": [
        {
          "output_type": "stream",
          "text": [
            "[0.31889439 0.30868032 0.00205709 ... 0.16133903 0.01552911 0.41196383]\n"
          ],
          "name": "stdout"
        }
      ]
    },
    {
      "cell_type": "markdown",
      "metadata": {
        "id": "Izt78SewmA_k"
      },
      "source": [
        "Model Deployment..\n",
        "\n",
        "\n",
        "Lastly, deploy the model to a server using ‘joblib’ library so that we can productionize the end-to-end machine learning framework. Later we can run the model over any new dataset to predict the probability of any customer to churn in months to come.\n"
      ]
    },
    {
      "cell_type": "code",
      "metadata": {
        "colab": {
          "base_uri": "https://localhost:8080/"
        },
        "id": "cN1409vBo1ie",
        "outputId": "6109b217-939c-4d52-dbda-da7592d1010c"
      },
      "source": [
        "import joblib\n",
        "filename = 'final_model.lgb'\n",
        "i = [lgb]\n",
        "joblib.dump(i,filename)"
      ],
      "execution_count": null,
      "outputs": [
        {
          "output_type": "execute_result",
          "data": {
            "text/plain": [
              "['final_model.lgb']"
            ]
          },
          "metadata": {
            "tags": []
          },
          "execution_count": 125
        }
      ]
    },
    {
      "cell_type": "markdown",
      "metadata": {
        "id": "p2kiA24qppM6"
      },
      "source": [
        "Conclusion...\n",
        "\n",
        "\n",
        "So,after selecting several models for building our supervised machine learning,i made some prediction of each model,evaluating models performance,and making the prediction of probabilities of any customer to churn in months to come with a reasonable accuracy score of 76% to 84%."
      ]
    }
  ]
}