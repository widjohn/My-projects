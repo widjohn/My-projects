{
  "nbformat": 4,
  "nbformat_minor": 0,
  "metadata": {
    "colab": {
      "name": "Copie de projects6.ipynb",
      "provenance": [],
      "authorship_tag": "ABX9TyPSION/ICqLUbj5MV4pbDbT",
      "include_colab_link": true
    },
    "kernelspec": {
      "name": "python3",
      "display_name": "Python 3"
    },
    "language_info": {
      "name": "python"
    }
  },
  "cells": [
    {
      "cell_type": "markdown",
      "metadata": {
        "id": "view-in-github",
        "colab_type": "text"
      },
      "source": [
        "<a href=\"https://colab.research.google.com/github/widjohn/for_my_project/blob/master/Copie_de_projects6.ipynb\" target=\"_parent\"><img src=\"https://colab.research.google.com/assets/colab-badge.svg\" alt=\"Open In Colab\"/></a>"
      ]
    },
    {
      "cell_type": "code",
      "metadata": {
        "id": "Ff7KAonW1Afc"
      },
      "source": [
        ""
      ],
      "execution_count": null,
      "outputs": []
    },
    {
      "cell_type": "markdown",
      "metadata": {
        "id": "jc5lol59b_TG"
      },
      "source": [
        "Unsupervised Learning project\n",
        "\n",
        "It's a data science project based on unsupervised learning,i found this dataset on kaggle web site.this is a dataset on customer segmentation for a mall,and the manager of the mall wants to get information on several customer segmentation to know which group of customers are more important to start start marketing strategy.\n",
        "\n",
        "In this project,i will select the machine learning algorithm k-means, by using the ELBOW METHOD.\n"
      ]
    },
    {
      "cell_type": "markdown",
      "metadata": {
        "id": "lGTCcPFFm-iB"
      },
      "source": [
        "Importing all relevant libraries for building unsupervised machine learning problem"
      ]
    },
    {
      "cell_type": "code",
      "metadata": {
        "id": "ZMw9RO1lcCNX"
      },
      "source": [
        "#import the libraries\n",
        "import pandas as pd\n",
        "import numpy as np\n",
        "import seaborn as sns\n",
        "from matplotlib import pyplot as plt"
      ],
      "execution_count": null,
      "outputs": []
    },
    {
      "cell_type": "code",
      "metadata": {
        "id": "GV3zhPzvcDUw"
      },
      "source": [
        "#loading dataset \n",
        "data=pd.read_csv('/content/Mall_Customers.csv')"
      ],
      "execution_count": null,
      "outputs": []
    },
    {
      "cell_type": "code",
      "metadata": {
        "colab": {
          "base_uri": "https://localhost:8080/",
          "height": 173
        },
        "id": "TGG4xzALcXxA",
        "outputId": "99a08515-5a9b-4f45-ff05-7a44caf40183"
      },
      "source": [
        "#the description of the  dataset\n",
        "data.head(4)"
      ],
      "execution_count": null,
      "outputs": [
        {
          "output_type": "execute_result",
          "data": {
            "text/html": [
              "<div>\n",
              "<style scoped>\n",
              "    .dataframe tbody tr th:only-of-type {\n",
              "        vertical-align: middle;\n",
              "    }\n",
              "\n",
              "    .dataframe tbody tr th {\n",
              "        vertical-align: top;\n",
              "    }\n",
              "\n",
              "    .dataframe thead th {\n",
              "        text-align: right;\n",
              "    }\n",
              "</style>\n",
              "<table border=\"1\" class=\"dataframe\">\n",
              "  <thead>\n",
              "    <tr style=\"text-align: right;\">\n",
              "      <th></th>\n",
              "      <th>CustomerID</th>\n",
              "      <th>Gender</th>\n",
              "      <th>Age</th>\n",
              "      <th>Annual Income (k$)</th>\n",
              "      <th>Spending Score (1-100)</th>\n",
              "    </tr>\n",
              "  </thead>\n",
              "  <tbody>\n",
              "    <tr>\n",
              "      <th>0</th>\n",
              "      <td>1</td>\n",
              "      <td>Male</td>\n",
              "      <td>19</td>\n",
              "      <td>15</td>\n",
              "      <td>39</td>\n",
              "    </tr>\n",
              "    <tr>\n",
              "      <th>1</th>\n",
              "      <td>2</td>\n",
              "      <td>Male</td>\n",
              "      <td>21</td>\n",
              "      <td>15</td>\n",
              "      <td>81</td>\n",
              "    </tr>\n",
              "    <tr>\n",
              "      <th>2</th>\n",
              "      <td>3</td>\n",
              "      <td>Female</td>\n",
              "      <td>20</td>\n",
              "      <td>16</td>\n",
              "      <td>6</td>\n",
              "    </tr>\n",
              "    <tr>\n",
              "      <th>3</th>\n",
              "      <td>4</td>\n",
              "      <td>Female</td>\n",
              "      <td>23</td>\n",
              "      <td>16</td>\n",
              "      <td>77</td>\n",
              "    </tr>\n",
              "  </tbody>\n",
              "</table>\n",
              "</div>"
            ],
            "text/plain": [
              "   CustomerID  Gender  Age  Annual Income (k$)  Spending Score (1-100)\n",
              "0           1    Male   19                  15                      39\n",
              "1           2    Male   21                  15                      81\n",
              "2           3  Female   20                  16                       6\n",
              "3           4  Female   23                  16                      77"
            ]
          },
          "metadata": {
            "tags": []
          },
          "execution_count": 3
        }
      ]
    },
    {
      "cell_type": "markdown",
      "metadata": {
        "id": "Z6-VAElQoZQO"
      },
      "source": [
        "This dataset contains five columns,customerID,Gender,Age,Annual income and spending score."
      ]
    },
    {
      "cell_type": "code",
      "metadata": {
        "id": "jIYnqOgyfjnu"
      },
      "source": [
        "#let's make a copy of the original dataset\n",
        "clusters_copy= data.copy()"
      ],
      "execution_count": null,
      "outputs": []
    },
    {
      "cell_type": "markdown",
      "metadata": {
        "id": "JkTqdrxbjkGQ"
      },
      "source": [
        "Data Preparation.\n",
        "\n",
        "Data preparation is the process of\n",
        "transforming raw data into a form that is more appropriate for modeling. It may be the most\n",
        "important, most time consuming, and yet least discussed area of a predictive modeling machine\n",
        "learning project. Data preparation is relatively straightforward in principle, although there\n",
        "is a suite of high-level classes of techniques, each with a range of di\u000berent algorithms, and\n",
        "each appropriate for a speci\fc situation with their own hyperparameters, tips, and tricks."
      ]
    },
    {
      "cell_type": "code",
      "metadata": {
        "colab": {
          "base_uri": "https://localhost:8080/"
        },
        "id": "jJRF9Nyho7P6",
        "outputId": "161bac27-b7c2-49c1-9319-1ab517eb3e5e"
      },
      "source": [
        "#let's see if there are any missing values in the dataset\n",
        "clusters_copy.isnull().sum()"
      ],
      "execution_count": null,
      "outputs": [
        {
          "output_type": "execute_result",
          "data": {
            "text/plain": [
              "CustomerID                0\n",
              "Gender                    0\n",
              "Age                       0\n",
              "Annual Income (k$)        0\n",
              "Spending Score (1-100)    0\n",
              "dtype: int64"
            ]
          },
          "metadata": {
            "tags": []
          },
          "execution_count": 5
        }
      ]
    },
    {
      "cell_type": "code",
      "metadata": {
        "colab": {
          "base_uri": "https://localhost:8080/"
        },
        "id": "4tQprGXkOjQ0",
        "outputId": "e326cfeb-39ff-493e-f245-b23b3042fe02"
      },
      "source": [
        "#type of data\n",
        "clusters_copy.dtypes"
      ],
      "execution_count": null,
      "outputs": [
        {
          "output_type": "execute_result",
          "data": {
            "text/plain": [
              "CustomerID                 int64\n",
              "Gender                    object\n",
              "Age                        int64\n",
              "Annual Income (k$)         int64\n",
              "Spending Score (1-100)     int64\n",
              "dtype: object"
            ]
          },
          "metadata": {
            "tags": []
          },
          "execution_count": 6
        }
      ]
    },
    {
      "cell_type": "markdown",
      "metadata": {
        "id": "kFF8X0siO02w"
      },
      "source": [
        "Our dataset contains five columns, four columns of type int64,and one column of type object"
      ]
    },
    {
      "cell_type": "markdown",
      "metadata": {
        "id": "sBJkLA7bpXsQ"
      },
      "source": [
        "As we can see, it seems that there are not any missing values in the dataset."
      ]
    },
    {
      "cell_type": "code",
      "metadata": {
        "colab": {
          "base_uri": "https://localhost:8080/"
        },
        "id": "64NJe6LCpovL",
        "outputId": "cbc13728-0376-466a-8193-4d91fb34f476"
      },
      "source": [
        "#check out duplicated values\n",
        "clusters_copy.duplicated()"
      ],
      "execution_count": null,
      "outputs": [
        {
          "output_type": "execute_result",
          "data": {
            "text/plain": [
              "0      False\n",
              "1      False\n",
              "2      False\n",
              "3      False\n",
              "4      False\n",
              "       ...  \n",
              "195    False\n",
              "196    False\n",
              "197    False\n",
              "198    False\n",
              "199    False\n",
              "Length: 200, dtype: bool"
            ]
          },
          "metadata": {
            "tags": []
          },
          "execution_count": 7
        }
      ]
    },
    {
      "cell_type": "markdown",
      "metadata": {
        "id": "ex5w5YSWp5tY"
      },
      "source": [
        "There are not any duplicated values in the dataset."
      ]
    },
    {
      "cell_type": "code",
      "metadata": {
        "colab": {
          "base_uri": "https://localhost:8080/",
          "height": 173
        },
        "id": "BTYpYn-jqCua",
        "outputId": "bced8cc0-9866-4a54-c4b9-42760c1fb96a"
      },
      "source": [
        "#let's see how is the correlation between the columns\n",
        "correlations= clusters_copy.corr()\n",
        "correlations"
      ],
      "execution_count": null,
      "outputs": [
        {
          "output_type": "execute_result",
          "data": {
            "text/html": [
              "<div>\n",
              "<style scoped>\n",
              "    .dataframe tbody tr th:only-of-type {\n",
              "        vertical-align: middle;\n",
              "    }\n",
              "\n",
              "    .dataframe tbody tr th {\n",
              "        vertical-align: top;\n",
              "    }\n",
              "\n",
              "    .dataframe thead th {\n",
              "        text-align: right;\n",
              "    }\n",
              "</style>\n",
              "<table border=\"1\" class=\"dataframe\">\n",
              "  <thead>\n",
              "    <tr style=\"text-align: right;\">\n",
              "      <th></th>\n",
              "      <th>CustomerID</th>\n",
              "      <th>Age</th>\n",
              "      <th>Annual Income (k$)</th>\n",
              "      <th>Spending Score (1-100)</th>\n",
              "    </tr>\n",
              "  </thead>\n",
              "  <tbody>\n",
              "    <tr>\n",
              "      <th>CustomerID</th>\n",
              "      <td>1.000000</td>\n",
              "      <td>-0.026763</td>\n",
              "      <td>0.977548</td>\n",
              "      <td>0.013835</td>\n",
              "    </tr>\n",
              "    <tr>\n",
              "      <th>Age</th>\n",
              "      <td>-0.026763</td>\n",
              "      <td>1.000000</td>\n",
              "      <td>-0.012398</td>\n",
              "      <td>-0.327227</td>\n",
              "    </tr>\n",
              "    <tr>\n",
              "      <th>Annual Income (k$)</th>\n",
              "      <td>0.977548</td>\n",
              "      <td>-0.012398</td>\n",
              "      <td>1.000000</td>\n",
              "      <td>0.009903</td>\n",
              "    </tr>\n",
              "    <tr>\n",
              "      <th>Spending Score (1-100)</th>\n",
              "      <td>0.013835</td>\n",
              "      <td>-0.327227</td>\n",
              "      <td>0.009903</td>\n",
              "      <td>1.000000</td>\n",
              "    </tr>\n",
              "  </tbody>\n",
              "</table>\n",
              "</div>"
            ],
            "text/plain": [
              "                        CustomerID  ...  Spending Score (1-100)\n",
              "CustomerID                1.000000  ...                0.013835\n",
              "Age                      -0.026763  ...               -0.327227\n",
              "Annual Income (k$)        0.977548  ...                0.009903\n",
              "Spending Score (1-100)    0.013835  ...                1.000000\n",
              "\n",
              "[4 rows x 4 columns]"
            ]
          },
          "metadata": {
            "tags": []
          },
          "execution_count": 8
        }
      ]
    },
    {
      "cell_type": "markdown",
      "metadata": {
        "id": "SGT7TL4Jrkv-"
      },
      "source": [
        "when i checked the correlation between the features, i get an insight that there are not so many correlations between the features.The correlation coefficient ranges from –1 to 1. When it is close to 1, it means that\n",
        "there is a strong positive correlation; for example, the annual income value.\n",
        "When the coefficient is close to –1, it means\n",
        "that there is a strong negative correlation,as we can see a small negative correlation\n",
        "between several columns."
      ]
    },
    {
      "cell_type": "code",
      "metadata": {
        "id": "ax4daR66HsLf",
        "colab": {
          "base_uri": "https://localhost:8080/",
          "height": 297
        },
        "outputId": "96a4a1f8-8e26-4b1c-f489-5b4e5a5664a8"
      },
      "source": [
        "#The describe() method shows a summary of the numerical attributes\n",
        "clusters_copy.describe()"
      ],
      "execution_count": null,
      "outputs": [
        {
          "output_type": "execute_result",
          "data": {
            "text/html": [
              "<div>\n",
              "<style scoped>\n",
              "    .dataframe tbody tr th:only-of-type {\n",
              "        vertical-align: middle;\n",
              "    }\n",
              "\n",
              "    .dataframe tbody tr th {\n",
              "        vertical-align: top;\n",
              "    }\n",
              "\n",
              "    .dataframe thead th {\n",
              "        text-align: right;\n",
              "    }\n",
              "</style>\n",
              "<table border=\"1\" class=\"dataframe\">\n",
              "  <thead>\n",
              "    <tr style=\"text-align: right;\">\n",
              "      <th></th>\n",
              "      <th>CustomerID</th>\n",
              "      <th>Age</th>\n",
              "      <th>Annual Income (k$)</th>\n",
              "      <th>Spending Score (1-100)</th>\n",
              "    </tr>\n",
              "  </thead>\n",
              "  <tbody>\n",
              "    <tr>\n",
              "      <th>count</th>\n",
              "      <td>200.000000</td>\n",
              "      <td>200.000000</td>\n",
              "      <td>200.000000</td>\n",
              "      <td>200.000000</td>\n",
              "    </tr>\n",
              "    <tr>\n",
              "      <th>mean</th>\n",
              "      <td>100.500000</td>\n",
              "      <td>38.850000</td>\n",
              "      <td>60.560000</td>\n",
              "      <td>50.200000</td>\n",
              "    </tr>\n",
              "    <tr>\n",
              "      <th>std</th>\n",
              "      <td>57.879185</td>\n",
              "      <td>13.969007</td>\n",
              "      <td>26.264721</td>\n",
              "      <td>25.823522</td>\n",
              "    </tr>\n",
              "    <tr>\n",
              "      <th>min</th>\n",
              "      <td>1.000000</td>\n",
              "      <td>18.000000</td>\n",
              "      <td>15.000000</td>\n",
              "      <td>1.000000</td>\n",
              "    </tr>\n",
              "    <tr>\n",
              "      <th>25%</th>\n",
              "      <td>50.750000</td>\n",
              "      <td>28.750000</td>\n",
              "      <td>41.500000</td>\n",
              "      <td>34.750000</td>\n",
              "    </tr>\n",
              "    <tr>\n",
              "      <th>50%</th>\n",
              "      <td>100.500000</td>\n",
              "      <td>36.000000</td>\n",
              "      <td>61.500000</td>\n",
              "      <td>50.000000</td>\n",
              "    </tr>\n",
              "    <tr>\n",
              "      <th>75%</th>\n",
              "      <td>150.250000</td>\n",
              "      <td>49.000000</td>\n",
              "      <td>78.000000</td>\n",
              "      <td>73.000000</td>\n",
              "    </tr>\n",
              "    <tr>\n",
              "      <th>max</th>\n",
              "      <td>200.000000</td>\n",
              "      <td>70.000000</td>\n",
              "      <td>137.000000</td>\n",
              "      <td>99.000000</td>\n",
              "    </tr>\n",
              "  </tbody>\n",
              "</table>\n",
              "</div>"
            ],
            "text/plain": [
              "       CustomerID         Age  Annual Income (k$)  Spending Score (1-100)\n",
              "count  200.000000  200.000000          200.000000              200.000000\n",
              "mean   100.500000   38.850000           60.560000               50.200000\n",
              "std     57.879185   13.969007           26.264721               25.823522\n",
              "min      1.000000   18.000000           15.000000                1.000000\n",
              "25%     50.750000   28.750000           41.500000               34.750000\n",
              "50%    100.500000   36.000000           61.500000               50.000000\n",
              "75%    150.250000   49.000000           78.000000               73.000000\n",
              "max    200.000000   70.000000          137.000000               99.000000"
            ]
          },
          "metadata": {
            "tags": []
          },
          "execution_count": 9
        }
      ]
    },
    {
      "cell_type": "markdown",
      "metadata": {
        "id": "cfkZ3VxFRPi0"
      },
      "source": [
        "when I run the describe method,i get an insight that the std\n",
        "row shows the standard deviation (which measures how dispersed the values are).\n",
        "The 25%, 50%, and 75% rows show the corresponding percentiles: a percentile indi\n",
        "cates the value below which a given percentage of observations in a group of observa‐\n",
        "tions falls."
      ]
    },
    {
      "cell_type": "markdown",
      "metadata": {
        "id": "pJ9XvHYhJINl"
      },
      "source": [
        "Data Visualization"
      ]
    },
    {
      "cell_type": "code",
      "metadata": {
        "colab": {
          "base_uri": "https://localhost:8080/",
          "height": 557
        },
        "id": "bG5ZXR1Sc7Y7",
        "outputId": "f6758bba-b3e8-47cb-e14b-5c4cca8f409d"
      },
      "source": [
        "#matrix of correlation\n",
        "f, ax= plt.subplots(figsize=(6,7))\n",
        "sns.heatmap(correlations, annot=True)"
      ],
      "execution_count": null,
      "outputs": [
        {
          "output_type": "execute_result",
          "data": {
            "text/plain": [
              "<matplotlib.axes._subplots.AxesSubplot at 0x7f87b377ddd0>"
            ]
          },
          "metadata": {
            "tags": []
          },
          "execution_count": 10
        },
        {
          "output_type": "display_data",
          "data": {
            "image/png": "[encoded data removed]",
            "text/plain": [
              "<Figure size 432x504 with 2 Axes>"
            ]
          },
          "metadata": {
            "tags": [],
            "needs_background": "light"
          }
        }
      ]
    },
    {
      "cell_type": "code",
      "metadata": {
        "colab": {
          "base_uri": "https://localhost:8080/",
          "height": 333
        },
        "id": "5k6gHMWMfd3s",
        "outputId": "607eeb43-5f9d-44a3-e95c-1bde48756028"
      },
      "source": [
        "#let's see how the distribution of the attribute age looks like\n",
        "sns.distplot(clusters_copy.Age);"
      ],
      "execution_count": null,
      "outputs": [
        {
          "output_type": "stream",
          "text": [
            "/usr/local/lib/python3.7/dist-packages/seaborn/distributions.py:2557: FutureWarning: `distplot` is a deprecated function and will be removed in a future version. Please adapt your code to use either `displot` (a figure-level function with similar flexibility) or `histplot` (an axes-level function for histograms).\n",
            "  warnings.warn(msg, FutureWarning)\n"
          ],
          "name": "stderr"
        },
        {
          "output_type": "display_data",
          "data": {
            "image/png": "[encoded data removed]",
            "text/plain": [
              "<Figure size 432x288 with 1 Axes>"
            ]
          },
          "metadata": {
            "tags": [],
            "needs_background": "light"
          }
        }
      ]
    },
    {
      "cell_type": "code",
      "metadata": {
        "colab": {
          "base_uri": "https://localhost:8080/"
        },
        "id": "dd67Mp3rcYvS",
        "outputId": "48b68ed2-d4cc-4b77-ae90-024b849f4d6e"
      },
      "source": [
        "#let's print the coef of pearson\n",
        "from scipy import stats\n",
        "stats.skew(clusters_copy.Age)"
      ],
      "execution_count": null,
      "outputs": [
        {
          "output_type": "execute_result",
          "data": {
            "text/plain": [
              "0.48191947090957177"
            ]
          },
          "metadata": {
            "tags": []
          },
          "execution_count": 12
        }
      ]
    },
    {
      "cell_type": "markdown",
      "metadata": {
        "id": "25WnS1S7ebuV"
      },
      "source": [
        "After looking into the attribute age in our dataset, i get an insight that there is a normal distribution."
      ]
    },
    {
      "cell_type": "code",
      "metadata": {
        "id": "lvlvcbJ8Nyfq",
        "colab": {
          "base_uri": "https://localhost:8080/",
          "height": 879
        },
        "outputId": "102772ca-fbb3-4e81-bac8-dc493636957b"
      },
      "source": [
        "#histogram\n",
        "clusters_copy.hist(bins=20, figsize=(10,15))\n",
        "plt.show()"
      ],
      "execution_count": null,
      "outputs": [
        {
          "output_type": "display_data",
          "data": {
            "image/png": "[encoded data removed]",
            "text/plain": [
              "<Figure size 720x1080 with 4 Axes>"
            ]
          },
          "metadata": {
            "tags": [],
            "needs_background": "light"
          }
        }
      ]
    },
    {
      "cell_type": "markdown",
      "metadata": {
        "id": "3WOf0i9SkSD_"
      },
      "source": [
        "After looking into the attribute age in our dataset, i get an insight that there is a normal distribution"
      ]
    },
    {
      "cell_type": "markdown",
      "metadata": {
        "id": "z58mB38XfXGY"
      },
      "source": [
        "\n",
        "Resume of EDA of our dataset:\n",
        "\n",
        " *This dataset contains five columns,customerID,Gender,Age,Annual income and spending score.\n",
        "\n",
        "*There are not any missing values in the dataset.\n",
        "\n",
        "*There are not any duplicated values in the dataset.\n",
        "\n",
        "*when i checked the correlation between the features, i get an insight that there are not so many correlations between the features.\n",
        "\n",
        "*when I run the describe method,i get an insight that the std row shows the standard deviation (which measures how dispersed the values are). The 25%, 50%, and 75% rows show the corresponding percentiles: a percentile indi cates the value below which a given percentage of observations in a group of observa‐ tions falls.\n",
        "\n",
        "*Our dataset contains five columns, four columns of type int64,and one column of type object"
      ]
    },
    {
      "cell_type": "code",
      "metadata": {
        "id": "eQplpPeXhIVF"
      },
      "source": [
        "#Let's remove unnecessaries variable\n",
        "x_feature=clusters_copy.iloc[:, [3, 4]].values"
      ],
      "execution_count": null,
      "outputs": []
    },
    {
      "cell_type": "code",
      "metadata": {
        "id": "ZDlsxvhchVtd"
      },
      "source": [
        "#using kmeans for clustering\n",
        "from sklearn.cluster import KMeans\n",
        "wcss=[]\n",
        "for i in range(1, 10 ):\n",
        "    kmeans_clusters= KMeans(n_clusters= i, init= 'k-means++', random_state= 42)\n",
        "    kmeans_clusters.fit(x_feature)\n",
        "    wcss.append(kmeans_clusters.inertia_)"
      ],
      "execution_count": null,
      "outputs": []
    },
    {
      "cell_type": "markdown",
      "metadata": {
        "id": "uYNA740l1t8m"
      },
      "source": [
        "In this project I select the machine learning algorithm k-means ,because i develop an unsupervised machine learning project,in practice ,the k-means algorithm is one of  the fastest clustering algorithms available."
      ]
    },
    {
      "cell_type": "markdown",
      "metadata": {
        "id": "m_yCz5oxhqiw"
      },
      "source": [
        "*The Elbow method"
      ]
    },
    {
      "cell_type": "code",
      "metadata": {
        "colab": {
          "base_uri": "https://localhost:8080/",
          "height": 295
        },
        "id": "ZY2I1IULhcsK",
        "outputId": "f9e9687e-3576-4bdf-d36c-90093c856091"
      },
      "source": [
        "plt.plot(range(1, 10), wcss)\n",
        "plt.title('Elbow method graph')\n",
        "plt.xlabel('k cluster')\n",
        "plt.ylabel('wcss')\n",
        "plt.show()"
      ],
      "execution_count": null,
      "outputs": [
        {
          "output_type": "display_data",
          "data": {
            "image/png": "[encoded data removed]",
            "text/plain": [
              "<Figure size 432x288 with 1 Axes>"
            ]
          },
          "metadata": {
            "tags": [],
            "needs_background": "light"
          }
        }
      ]
    },
    {
      "cell_type": "code",
      "metadata": {
        "id": "U24FTedGhdVR"
      },
      "source": [
        "kmeans_clusters= KMeans(n_clusters= 5, init= 'k-means++', random_state= 42)\n",
        "y_pred=kmeans_clusters.fit_predict(x_feature)"
      ],
      "execution_count": null,
      "outputs": []
    },
    {
      "cell_type": "code",
      "metadata": {
        "colab": {
          "base_uri": "https://localhost:8080/",
          "height": 295
        },
        "id": "cnwndn43iZ03",
        "outputId": "f4f2c488-e28e-451f-f38a-942e4796421b"
      },
      "source": [
        "plt.scatter(x_feature[y_pred== 0,0], x_feature[y_pred==0, 1], s= 100, c= 'red', label= 'cluster 1')\n",
        "plt.scatter(x_feature[y_pred== 1,0], x_feature[y_pred==1, 1], s= 100, c= 'blue', label= 'cluster 2')\n",
        "plt.scatter(x_feature[y_pred== 2,0], x_feature[y_pred==2, 1], s= 100, c= 'green', label= 'cluster 3')\n",
        "plt.scatter(x_feature[y_pred== 3,0], x_feature[y_pred==3, 1], s= 100, c= 'cyan', label= 'cluster 4')\n",
        "plt.scatter(x_feature[y_pred== 4,0], x_feature[y_pred==4, 1], s= 100, c= 'magenta', label= 'cluster 5')\n",
        "\n",
        "plt.scatter(kmeans_clusters.cluster_centers_[:, 0], kmeans_clusters.cluster_centers_[:,1], s= 300, c='yellow', label=' centroids')\n",
        "plt.title('clusters of customers')\n",
        "plt.xlabel('Annual Income')\n",
        "plt.ylabel('Spending Score')\n",
        "plt.legend()\n",
        "plt.show()"
      ],
      "execution_count": null,
      "outputs": [
        {
          "output_type": "display_data",
          "data": {
            "image/png": "[encoded data removed]",
            "text/plain": [
              "<Figure size 432x288 with 1 Axes>"
            ]
          },
          "metadata": {
            "tags": [],
            "needs_background": "light"
          }
        }
      ]
    },
    {
      "cell_type": "markdown",
      "metadata": {
        "id": "CRLfW6Fhf8e2"
      },
      "source": [
        "**Conclusion\n",
        "This part is the conclusion of project.I developed several part of a data science project life cycle. Once I defined the business problem,i get the data, i refined it for the use in performing exploratory data and visualizations.\n",
        "Ultimately,i selected the unsupervised machine learning algorithm K-means that me allowed to cluster the customers in five clusters ,by identifying which customer segmentation has more spending score , much more annual income.\n",
        "\n",
        "And ultimately, i discoved the cluster five has much more annual income and has less spending score."
      ]
    },
    {
      "cell_type": "code",
      "metadata": {
        "id": "ZglXguwff7c6"
      },
      "source": [
        ""
      ],
      "execution_count": null,
      "outputs": []
    },
    {
      "cell_type": "code",
      "metadata": {
        "id": "vDzZ9K1elz2p"
      },
      "source": [
        ""
      ],
      "execution_count": null,
      "outputs": []
    }
  ]
}